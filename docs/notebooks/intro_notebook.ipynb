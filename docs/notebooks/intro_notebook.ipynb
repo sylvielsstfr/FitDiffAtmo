{
 "cells": [
  {
   "cell_type": "markdown",
   "id": "accepting-editor",
   "metadata": {
    "cell_marker": "\"\"\""
   },
   "source": [
    "# Introducing Jupyter Notebooks"
   ]
  },
  {
   "cell_type": "markdown",
   "id": "f0f5f0f3-9fd9-4407-aa9c-3a4f164b5a2a",
   "metadata": {},
   "source": [
    "## First test with numpyro"
   ]
  },
  {
   "cell_type": "markdown",
   "id": "26038ea1-f862-41ac-932b-e0507353c76a",
   "metadata": {},
   "source": [
    "-[Notebook to fit atmospheric parameters with MCMC in numpyro](fitdiffatmo/test_numpyro_diffatmemul.ipynb)"
   ]
  },
  {
   "cell_type": "markdown",
   "id": "da62d42b-7ede-4bef-bc7f-0edcf4c6535b",
   "metadata": {},
   "source": [
    "- [fit 5 parameters with jaxopt](fitdiffatmo/test_jaxopt_orderedict_diffatmemul_5paramsP_pwv_oz_tau_beta.ipynb)\n",
    "- [fit 5 parameters with numpyro](fitdiffatmo/test_numpyro_orderedict_diffatmemul_5params_P_pwv_oz_tau_beta.ipynb)\n",
    "- [fit 6 parameters with numpyro](fitdiffatmo/test_numpyro_orderedict_diffatmemul_6params_am_P_pwv_oz_tau_beta.ipynb)"
   ]
  }
 ],
 "metadata": {
  "jupytext": {
   "cell_markers": "\"\"\""
  },
  "kernelspec": {
   "display_name": "Python 3 (ipykernel)",
   "language": "python",
   "name": "python3"
  },
  "language_info": {
   "codemirror_mode": {
    "name": "ipython",
    "version": 3
   },
   "file_extension": ".py",
   "mimetype": "text/x-python",
   "name": "python",
   "nbconvert_exporter": "python",
   "pygments_lexer": "ipython3",
   "version": "3.10.13"
  }
 },
 "nbformat": 4,
 "nbformat_minor": 5
}
