{
 "cells": [
  {
   "cell_type": "markdown",
   "id": "ad4333a6-f9a6-4393-8d53-74f075b2ade1",
   "metadata": {},
   "source": [
    "# JAXOPT to fit atmospheric parameters on measured air transmission with 5 parameters\n",
    "\n",
    "- P\n",
    "- pwv\n",
    "- oz\n",
    "- tau (aerosols)\n",
    "- beta (aerosols)\n"
   ]
  },
  {
   "cell_type": "markdown",
   "id": "8a482af8-bdfd-4c0a-93c2-29140d7ceb5e",
   "metadata": {},
   "source": [
    "https://github.com/DifferentiableUniverseInitiative/jax-cosmo-paper/blob/master/notebooks/VectorizedNumPyro.ipynb"
   ]
  },
  {
   "cell_type": "code",
   "execution_count": null,
   "id": "a0eb9248-6249-4444-a7d4-abb31e610865",
   "metadata": {},
   "outputs": [],
   "source": [
    "from diffatmemulator.diffatmemulator import DiffAtmEmulator\n",
    "from diffatmemulator.diffatmemulator import Dict_Of_sitesAltitudes,Dict_Of_sitesPressures"
   ]
  },
  {
   "cell_type": "code",
   "execution_count": null,
   "id": "13689a94-bbbd-4604-9812-f37bd8446e18",
   "metadata": {},
   "outputs": [],
   "source": [
    "from collections import OrderedDict"
   ]
  },
  {
   "cell_type": "code",
   "execution_count": null,
   "id": "75cb1049-4aa6-4267-9c4d-ff892b8ccfb0",
   "metadata": {},
   "outputs": [],
   "source": [
    "from instrument.instrument import Hologram"
   ]
  },
  {
   "cell_type": "code",
   "execution_count": null,
   "id": "0abfbf7b-3d25-4061-b01c-1b88ef5fb996",
   "metadata": {},
   "outputs": [],
   "source": [
    "import numpy as np\n",
    "import jax\n",
    "import jax.numpy as jnp\n",
    "#from jax.scipy.special import logsumexp\n",
    "import jax.scipy as jsc\n",
    "\n",
    "from jax import grad, jit, vmap\n",
    "from jax import jacfwd, jacrev, hessian\n",
    "\n",
    "import jaxopt\n",
    "import optax\n",
    "\n",
    "\n",
    "jax.config.update(\"jax_enable_x64\", True)\n",
    "\n",
    "\n",
    "\n",
    "import matplotlib as mpl\n",
    "from matplotlib import pyplot as plt\n",
    "\n",
    "import corner\n",
    "import arviz as az\n",
    "mpl.rcParams['font.size'] = 15\n",
    "mpl.rcParams[\"figure.figsize\"] = [8, 8]"
   ]
  },
  {
   "cell_type": "code",
   "execution_count": null,
   "id": "686f274a-6c4e-4bd4-8bc4-45c3cd892dfd",
   "metadata": {},
   "outputs": [],
   "source": [
    "import os\n",
    "import jax\n",
    "import jax.numpy as jnp\n",
    "import numpyro\n",
    "import numpyro.distributions as dist"
   ]
  },
  {
   "cell_type": "code",
   "execution_count": null,
   "id": "c338c29a-64de-4be6-abc2-0ada85ff8018",
   "metadata": {},
   "outputs": [],
   "source": [
    "def plot_params_kde(samples,hdi_probs=[0.393, 0.865, 0.989], \n",
    "                    patName=None, fname=None, pcut=None,\n",
    "                   var_names=None, point_estimate=\"median\"):\n",
    "    \n",
    "    if pcut is not None:\n",
    "        low = pcut[0]\n",
    "        up  = pcut[1] \n",
    "        #keep only data in the [low, up] percentiles ex. 0.5, 99.5\n",
    "        samples={name:value[(value>np.percentile(value,low)) &  (value<np.percentile(value,up))] \\\n",
    "          for name, value in samples.items()}\n",
    "        len_min = np.min([len(value) for name, value in samples.items()])\n",
    "        len_max = np.max([len(value) for name, value in samples.items()])\n",
    "        if (len_max-len_min)>0.01*len_max:\n",
    "            print(f\"Warning: pcut leads to min/max spls size = {len_min}/{len_max}\")\n",
    "        samples = {name:value[:len_min] for name, value in samples.items()}\n",
    "    \n",
    "    axs= az.plot_pair(\n",
    "            samples,\n",
    "            var_names=var_names,\n",
    "            figsize=(10,10),\n",
    "            kind=\"kde\",\n",
    "    #        marginal_kwargs={\"plot_kwargs\": {\"lw\": 3, \"c\": \"b\"}},\n",
    "            kde_kwargs={\n",
    "#                \"hdi_probs\": [0.68, 0.9],  # Plot 68% and 90% HDI contours\n",
    "                \"hdi_probs\":hdi_probs,  # 1, 2 and 3 sigma contours\n",
    "                \"contour_kwargs\":{\"colors\":('r', 'green', 'blue'), \"linewidths\":3},\n",
    "                \"contourf_kwargs\":{\"alpha\":0},\n",
    "            },\n",
    "            point_estimate_kwargs={\"lw\": 3, \"c\": \"b\"},\n",
    "            marginals=True, textsize=20, point_estimate=point_estimate,\n",
    "        );\n",
    "    \n",
    "    plt.tight_layout()\n",
    "    \n",
    "    if patName is not None:\n",
    "        patName_patch = mpatches.Patch(color='b', label=patName)\n",
    "        axs[0,0].legend(handles=[patName_patch], fontsize=40, bbox_to_anchor=(1, 0.7));\n",
    "    if fname is not None:\n",
    "        plt.savefig(fname)\n",
    "        plt.close()"
   ]
  },
  {
   "cell_type": "markdown",
   "id": "519792bb-e535-45d6-8c92-17d5e11a2b69",
   "metadata": {},
   "source": [
    "# Instrument\n",
    "\n",
    "defines the properties of the instrument measurement. The detector consists in the CCD plate of the Auxtel telescope. The Hologram class allows to retrieve the correct wavelength sampling corresponding to the measurement of a spectrum. This wavelength sampling correspond to pixel size sampling."
   ]
  },
  {
   "cell_type": "code",
   "execution_count": null,
   "id": "1a0d5e9b-2cad-469e-9b9c-14f1e3cd2066",
   "metadata": {},
   "outputs": [],
   "source": [
    "h = Hologram(rebin=1)"
   ]
  },
  {
   "cell_type": "code",
   "execution_count": null,
   "id": "fb0dfc7f-94a9-49b3-861d-daf37ea31db8",
   "metadata": {},
   "outputs": [],
   "source": [
    "wls = h.get_wavelength_sample()"
   ]
  },
  {
   "cell_type": "markdown",
   "id": "d26eee32-9b2d-4a46-86b5-694dbb1b6a74",
   "metadata": {},
   "source": [
    "## Emulator"
   ]
  },
  {
   "cell_type": "code",
   "execution_count": null,
   "id": "3bf115f9-5276-46e6-a4d6-ea6cef42fb10",
   "metadata": {},
   "outputs": [],
   "source": [
    "obs_str = \"LSST\"\n",
    "\n",
    "emul1 =  DiffAtmEmulator(obs_str=obs_str)\n",
    "emul2 =  DiffAtmEmulator(obs_str=obs_str,pressure=800.)"
   ]
  },
  {
   "cell_type": "code",
   "execution_count": null,
   "id": "45f7da84-e150-48fc-823b-f09bdf0c33d7",
   "metadata": {},
   "outputs": [],
   "source": [
    "P1 = emul1.pressure\n",
    "P2 = emul2.pressure"
   ]
  },
  {
   "cell_type": "code",
   "execution_count": null,
   "id": "3db6fbf7-a17f-4366-8535-4db257f6131d",
   "metadata": {},
   "outputs": [],
   "source": [
    "transm1 = emul1.vect1d_Alltransparencies(wls,am=1,pwv=4.0,oz=400.,tau=0.1,beta=-1.2)\n",
    "transm2 = emul2.vect1d_Alltransparencies(wls,am=1,pwv=4.0,oz=400.,tau=0.1,beta=-1.2)"
   ]
  },
  {
   "cell_type": "code",
   "execution_count": null,
   "id": "3025e267-d044-4b04-aa63-cd4c5dac28e7",
   "metadata": {},
   "outputs": [],
   "source": [
    "fig,ax = plt.subplots(1,1,figsize=(6,3))\n",
    "ax.plot(wls,transm1,'b',label=f\"P = {P1:.1f} hPa\")\n",
    "ax.plot(wls,transm2,'r',label=f\"P = {P2:.1f} hPa\")\n",
    "ax.set_xlabel(\"$\\lambda$ (nm)\")\n",
    "ax.set_ylabel(\"transmission\")\n",
    "ax.set_title(\"mean air transparency\")\n",
    "ax.legend()"
   ]
  },
  {
   "cell_type": "code",
   "execution_count": null,
   "id": "4cbb7245-4009-4ae0-812c-92e3e931ad2e",
   "metadata": {},
   "outputs": [],
   "source": [
    "def mean_transm(x, params,airmass):\n",
    "    \"\"\" mean function of the model of transmission \n",
    "    :param x: set of wavelengths measured experimentaly (independent variable)  \n",
    "    :type x: float, in unit nm\n",
    "    \n",
    "    :param params: dictionnary of parameters to be fitted\n",
    "    :type params: float\n",
    "    ...\n",
    "    :raises [ErrorType]: [ErrorDescription]\n",
    "    ...\n",
    "    :return: return the transmission\n",
    "    :rtype: float\n",
    "\n",
    "    Assume the airmass is set to 1.0\n",
    "    \n",
    "    \"\"\"\n",
    "    pressure = params[\"P\"]\n",
    "    pwv  = params[\"pwv\"]\n",
    "    oz = params[\"oz\"]\n",
    "    tau =  params[\"tau\"]\n",
    "    beta =  params[\"beta\"]\n",
    "\n",
    "    airmass = airmass\n",
    "    wls = x\n",
    "\n",
    "    emul = DiffAtmEmulator(obs_str=obs_str,pressure=pressure)\n",
    "    transm= emul.vect1d_Alltransparencies(wls,am=airmass,pwv=pwv,\n",
    "                                          oz=oz,tau=tau,beta=beta)\n",
    "    \n",
    "    return transm"
   ]
  },
  {
   "cell_type": "code",
   "execution_count": null,
   "id": "b8cc0848-75b0-487c-8b94-e6691cd4f397",
   "metadata": {},
   "outputs": [],
   "source": [
    "rng_key = jax.random.PRNGKey(42)\n",
    "rng_key, rng_key0, rng_key1, rng_key2 = jax.random.split(rng_key, 4)"
   ]
  },
  {
   "cell_type": "code",
   "execution_count": null,
   "id": "811a0e75-2f35-4849-be0e-85f4410f021a",
   "metadata": {},
   "outputs": [],
   "source": [
    "sigma_obs=0.01 # 10 mmag accuracy"
   ]
  },
  {
   "cell_type": "code",
   "execution_count": null,
   "id": "dfeb2681-a980-4357-8d57-e48c5211ca68",
   "metadata": {},
   "outputs": [],
   "source": [
    "airmass = 1.0\n",
    "par_true=OrderedDict({\"P\":730.0, \"pwv\":4.0, \"oz\":400, \"tau\": 0.05, \"beta\": -1.2})"
   ]
  },
  {
   "cell_type": "code",
   "execution_count": null,
   "id": "e220546e-10d7-4b14-b737-f7286b6afeb0",
   "metadata": {},
   "outputs": [],
   "source": [
    "par_true"
   ]
  },
  {
   "cell_type": "code",
   "execution_count": null,
   "id": "e7f831a8-6013-4e2d-9bec-376bcd23c534",
   "metadata": {},
   "outputs": [],
   "source": [
    "TMes = mean_transm(wls,par_true,airmass) + sigma_obs * jax.random.normal(rng_key1,shape=wls.shape)"
   ]
  },
  {
   "cell_type": "code",
   "execution_count": null,
   "id": "50766b0c-dd26-4f63-93b2-06fe4b051edf",
   "metadata": {},
   "outputs": [],
   "source": [
    "fig,ax = plt.subplots(1,1,figsize=(10,3))\n",
    "ax.errorbar(wls,TMes,yerr=sigma_obs,fmt=\"o\",ms=1,color=\"k\",ecolor=\"r\",lw=1)\n",
    "ax.set_xlabel(\"$\\lambda$ (nm)\")\n",
    "ax.set_ylabel(\"transmission\")\n",
    "ax.legend()\n",
    "ax.grid();"
   ]
  },
  {
   "cell_type": "code",
   "execution_count": null,
   "id": "42de890a-004a-4caf-a0b1-e50b9503da26",
   "metadata": {},
   "outputs": [],
   "source": [
    "def lik(p,wls,T, sigma_obs=1.0,airmass=1):\n",
    "    params = OrderedDict({\"P\":p[0], \"pwv\":p[1], \"oz\":p[2], \"tau\":p[3], \"beta\":p[4]})\n",
    "    mu = mean_transm(wls,params,airmass)\n",
    "    resid = mean_transm(wls, params,airmass)-T\n",
    "    return 0.5*jnp.sum((resid/sigma_obs) ** 2) "
   ]
  },
  {
   "cell_type": "code",
   "execution_count": null,
   "id": "7bd866c0-f697-4044-842d-835d0c6b4352",
   "metadata": {},
   "outputs": [],
   "source": [
    "def get_infos(res, model, wls,T,airmass=1):\n",
    "    params    = res.params\n",
    "    fun_min   = model(params,wls,T,airmass)\n",
    "    jacob_min =jax.jacfwd(model)(params, wls,T,airmass)\n",
    "    inv_hessian_min =jax.scipy.linalg.inv(jax.hessian(model)(params, wls,T,airmass))\n",
    "    return params,fun_min,jacob_min,inv_hessian_min"
   ]
  },
  {
   "cell_type": "markdown",
   "id": "9b544344-0f4b-4e98-a8f6-b29452cfa98f",
   "metadata": {},
   "source": [
    "## Jaxopt-GradientDescent"
   ]
  },
  {
   "cell_type": "code",
   "execution_count": null,
   "id": "3ce0d9f0-ea8a-44d4-8841-add85d858ca6",
   "metadata": {},
   "outputs": [],
   "source": [
    "gd = jaxopt.GradientDescent(fun=lik, maxiter=1000)\n",
    "init_params = jnp.array([730.,4.,300.,.05,-1.])\n",
    "res = gd.run(init_params,wls=wls, T=TMes)"
   ]
  },
  {
   "cell_type": "code",
   "execution_count": null,
   "id": "75c94eb6-5d38-4b58-809a-38396702e696",
   "metadata": {},
   "outputs": [],
   "source": [
    "params,fun_min,jacob_min,inv_hessian_min = get_infos(res, lik, wls=wls,T=TMes)\n",
    "print(\"params:\",params,\"\\nfun@min:\",fun_min,\"\\njacob@min:\",jacob_min,\n",
    "     \"\\n invH@min:\",inv_hessian_min)"
   ]
  },
  {
   "cell_type": "markdown",
   "id": "5b65dba3-b1b0-45cc-b3b1-c6ab76edfdb4",
   "metadata": {},
   "source": [
    "## OptaxSolver - Adam"
   ]
  },
  {
   "cell_type": "code",
   "execution_count": null,
   "id": "a81392d5-d627-4ef0-8689-b9af793c29a5",
   "metadata": {},
   "outputs": [],
   "source": [
    "opt = optax.adam(0.1)\n",
    "solver = jaxopt.OptaxSolver(opt=opt, fun=lik, maxiter=10000)\n",
    "init_params = jnp.array([730.,4.,300.,.05,-1.])\n",
    "res = solver.run(init_params,wls=wls, T=TMes)"
   ]
  },
  {
   "cell_type": "code",
   "execution_count": null,
   "id": "d10f4ca9-318f-41d2-bd07-7560173d60be",
   "metadata": {},
   "outputs": [],
   "source": [
    "params,fun_min,jacob_min,inv_hessian_min = get_infos(res, lik, wls=wls,T=TMes)\n",
    "print(\"params:\",params,\"\\nfun@min:\",fun_min,\"\\njacob@min:\",jacob_min,\n",
    "     \"\\n invH@min:\",inv_hessian_min)"
   ]
  },
  {
   "cell_type": "markdown",
   "id": "8f635747-ac28-488c-90ba-b82ed10bda60",
   "metadata": {},
   "source": [
    "## JAXOPT-scipy-Minimize"
   ]
  },
  {
   "cell_type": "code",
   "execution_count": null,
   "id": "a222bdaf-a084-4df7-9581-2ca758ef20b1",
   "metadata": {},
   "outputs": [],
   "source": [
    "minimizer = jaxopt.ScipyMinimize(fun=lik,method='BFGS',options={'gtol': 1e-6,'disp': False})\n",
    "init_params = jnp.array([730.,4.,300.,.05,-1.])\n",
    "res1 = minimizer.run(init_params, wls=wls, T=TMes)\n",
    "params,fun_min,jacob_min,inv_hessian_min = get_infos(res1, lik, wls=wls,T=TMes)\n",
    "print(\"params:\",params,\"\\nfun@min:\",fun_min,\"\\njacob@min:\",jacob_min,\n",
    "     \"\\n invH@min:\",inv_hessian_min)"
   ]
  },
  {
   "cell_type": "markdown",
   "id": "3365847a-2559-4999-b478-6f6b2400e1ff",
   "metadata": {},
   "source": [
    "## JAXOPT-ScipyBoundedMinimize"
   ]
  },
  {
   "cell_type": "code",
   "execution_count": null,
   "id": "bd26956c-7ae0-4a9f-862f-56334231650b",
   "metadata": {},
   "outputs": [],
   "source": [
    "lbfgsb = jaxopt.ScipyBoundedMinimize(fun=lik, method=\"L-BFGS-B\")\n",
    "init_params = jnp.array([730.,4.,300.,.05,-1.])\n",
    "res2 = lbfgsb.run(init_params, \n",
    "                  bounds=([700.,0.,0.,0.,-3.0],[800.,10.,550.,0.5,0.]), \n",
    "                 wls=wls, T=TMes)\n",
    "params,fun_min,jacob_min,inv_hessian_min = get_infos(res2, lik, wls=wls, T=TMes)\n",
    "print(\"params:\",params,\"\\nfun@min:\",fun_min,\"\\njacob@min:\",jacob_min,\n",
    "     \"\\n invH@min:\",inv_hessian_min)"
   ]
  },
  {
   "cell_type": "markdown",
   "id": "6afd8a9e-e092-4c8a-9eec-26b9f14841b7",
   "metadata": {},
   "source": [
    "# loss-landscape"
   ]
  },
  {
   "cell_type": "code",
   "execution_count": null,
   "id": "19ba139d-e1d6-4d3c-8abe-03ec1e322668",
   "metadata": {},
   "outputs": [],
   "source": [
    "def plot_landscape(ax,model,xdata,ydata, \n",
    "                   par_min, idx=(0,1), \n",
    "                   bounds=(0.,1.,0.,1.), \n",
    "                   model_args=(), model_kwargs={}):\n",
    "    xmin,xmax,ymin,ymax = bounds\n",
    "    grid = x0,y0 = jnp.mgrid[xmin:xmax:101j,ymin:ymax:101j]\n",
    "\n",
    "    pts = jnp.swapaxes(grid,0,-1).reshape(-1,2)\n",
    "    points = jnp.repeat(par_min[None, :], pts.shape[0], axis=0)\n",
    "    for i in (0,1):\n",
    "        points = points.at[:,idx[i]].set(pts[:,i])\n",
    "    \n",
    "    vfunc = jit(vmap(lambda p,x,y: model(p,x,y,*model_args, **model_kwargs), in_axes = (0,None,None)))\n",
    "    v = vfunc(points,xdata,ydata)\n",
    "    v = jnp.swapaxes(v.reshape(101,101),0,-1)\n",
    "    g0=ax.contourf(x0,y0,v, levels = 100)\n",
    "    ax.contour(x0,y0,v, levels = 50, colors = 'w')\n",
    "\n",
    "    grid = jnp.mgrid[xmin:xmax:10j,ymin:ymax:10j]\n",
    "    pts = jnp.swapaxes(grid,0,-1).reshape(-1,2)\n",
    "    points = jnp.repeat(par_min[None, :], pts.shape[0], axis=0)\n",
    "    for i in (0,1):\n",
    "        points = points.at[:,idx[i]].set(pts[:,i])\n",
    "\n",
    "    gradients = jit(vmap(\n",
    "        grad(\n",
    "            lambda p,x,y: model(p,x,y, *model_args, **model_kwargs)\n",
    "        ), in_axes = (0,None,None)\n",
    "    ))(points,xdata,ydata)\n",
    "\n",
    "    scale = int(0.2*np.max(gradients))\n",
    "    ax.quiver(\n",
    "        points[:,idx[0]],\n",
    "        points[:,idx[1]],\n",
    "        gradients[:,idx[0]],\n",
    "        gradients[:,idx[1]],\n",
    "        color=\"white\",\n",
    "        angles = 'xy',\n",
    "        scale_units='xy',\n",
    "        scale = scale\n",
    "    )\n",
    "    ax.set_aspect(\"auto\")\n",
    "    fig.colorbar(g0,ax=ax,shrink=0.5)"
   ]
  },
  {
   "cell_type": "code",
   "execution_count": null,
   "id": "5569b320-9514-40d2-8eb6-c90f23f5b3d1",
   "metadata": {},
   "outputs": [],
   "source": [
    "fig,ax = plt.subplots(1,1,figsize=(10,10))\n",
    "plot_landscape(ax,model=lik,\n",
    "               xdata=wls,\n",
    "               ydata=TMes,\n",
    "               par_min=params, \n",
    "               idx=(0,3),\n",
    "               bounds=(600.,900.,0.,.1))\n",
    "plt.xlabel(\"P\")\n",
    "plt.ylabel(r\"$\\tau$\")\n",
    "plt.show()"
   ]
  },
  {
   "cell_type": "code",
   "execution_count": null,
   "id": "7026d0c9-544d-4d99-96d8-fb01f747b5ab",
   "metadata": {},
   "outputs": [],
   "source": [
    "fig,ax = plt.subplots(1,1,figsize=(10,10))\n",
    "plot_landscape(ax,model=lik,\n",
    "               xdata=wls,\n",
    "               ydata=TMes,\n",
    "               par_min=params, \n",
    "               idx=(1,2),\n",
    "               bounds=(0.,10.,0.,550.))\n",
    "plt.xlabel(\"pwv\")\n",
    "plt.ylabel(r\"$oz$\")\n",
    "plt.show()"
   ]
  },
  {
   "cell_type": "markdown",
   "id": "093d9ef7-4792-4f58-a414-e3f0b989ca48",
   "metadata": {},
   "source": [
    "## Prédiction/error bands: comment faire un sampling à partir du Hessien "
   ]
  },
  {
   "cell_type": "code",
   "execution_count": null,
   "id": "b58e53f1-192c-475f-a74c-fa44fee55d23",
   "metadata": {},
   "outputs": [],
   "source": [
    "wls_val = np.linspace(300.,1000,100)"
   ]
  },
  {
   "cell_type": "code",
   "execution_count": null,
   "id": "46b49c02-8914-4672-aaf4-7704f487047a",
   "metadata": {},
   "outputs": [],
   "source": [
    "Ttrue_val = mean_transm(wls_val,par_true,airmass)"
   ]
  },
  {
   "cell_type": "code",
   "execution_count": null,
   "id": "fb244b1d-9492-446c-8940-5994a8e2c506",
   "metadata": {},
   "outputs": [],
   "source": [
    "param_spls = jax.random.multivariate_normal(rng_key2,\n",
    "                                            mean=params,\n",
    "                                            cov=inv_hessian_min,\n",
    "                                            shape=(5000,))"
   ]
  },
  {
   "cell_type": "code",
   "execution_count": null,
   "id": "192d7769-6146-4e43-b2a7-289f02f0dc1e",
   "metadata": {},
   "outputs": [],
   "source": [
    "func = jax.vmap(lambda x: mean_transm(wls_val,\n",
    "                                      OrderedDict({\"P\":x[0],\n",
    "                                                   \"pwv\":x[1],\n",
    "                                                   \"oz\":x[2],\n",
    "                                                   \"tau\":x[3],\n",
    "                                                   \"beta\":x[4]}),airmass))\n",
    "                                              "
   ]
  },
  {
   "cell_type": "code",
   "execution_count": null,
   "id": "405fb985-89ed-4262-959e-fbb3bb141fff",
   "metadata": {},
   "outputs": [],
   "source": [
    "Tall_val= func(param_spls)"
   ]
  },
  {
   "cell_type": "code",
   "execution_count": null,
   "id": "8ce2ac7c-bf16-4ec8-b677-7085cf3f9347",
   "metadata": {},
   "outputs": [],
   "source": [
    "Tmean_val = jnp.mean(Tall_val,axis=0)\n",
    "std_T_val = jnp.std(Tall_val,axis=0)"
   ]
  },
  {
   "cell_type": "code",
   "execution_count": null,
   "id": "1a3d17f0-5ec4-46fe-b0bb-77285d79665b",
   "metadata": {},
   "outputs": [],
   "source": [
    "fig=plt.figure(figsize=(10,8))\n",
    "plt.errorbar(wls,TMes,yerr=sigma_obs,fmt='o', linewidth=2, capsize=0, c='k', label=\"data\")\n",
    "plt.plot(wls_val,Ttrue_val,c='k',label=\"true\")\n",
    "\n",
    "plt.fill_between(wls_val, Tmean_val-2*std_T_val, Tmean_val+2*std_T_val, \n",
    "                    color=\"lightblue\",label=r\"$2-\\sigma$\")\n",
    "plt.fill_between(wls_val, Tmean_val-std_T_val, Tmean_val+std_T_val, \n",
    "                    color=\"lightgray\",label=r\"$1-\\sigma$\")\n",
    "# plot mean prediction\n",
    "plt.plot(wls_val, Tmean_val, \"blue\", ls=\"--\", lw=2.0, label=\"mean\")\n",
    "\n",
    "\n",
    "plt.xlabel(\"$\\lambda$\")\n",
    "plt.ylabel(\"Transmission\")\n",
    "plt.legend()\n",
    "plt.grid();"
   ]
  },
  {
   "cell_type": "code",
   "execution_count": null,
   "id": "efedeaad-bdc2-4783-bd5b-9f419f27bd93",
   "metadata": {},
   "outputs": [],
   "source": []
  },
  {
   "cell_type": "code",
   "execution_count": null,
   "id": "31121294-044e-4055-a78c-982089896f2e",
   "metadata": {},
   "outputs": [],
   "source": [
    "par_min = params\n",
    "par_min"
   ]
  },
  {
   "cell_type": "code",
   "execution_count": null,
   "id": "a51dc343-2a41-4d2e-b421-216ffc5687e1",
   "metadata": {},
   "outputs": [],
   "source": [
    "inv_hessian_min"
   ]
  },
  {
   "cell_type": "code",
   "execution_count": null,
   "id": "67888663-2007-4604-921e-bb6ceef0d56c",
   "metadata": {},
   "outputs": [],
   "source": []
  },
  {
   "cell_type": "code",
   "execution_count": null,
   "id": "24fbd441-338e-404a-a9d6-81d64839fc25",
   "metadata": {},
   "outputs": [],
   "source": [
    "rgn_key, new_key = jax.random.split(rng_key)"
   ]
  },
  {
   "cell_type": "code",
   "execution_count": null,
   "id": "72eacf25-593d-47fc-b12b-56117911bc03",
   "metadata": {},
   "outputs": [],
   "source": [
    "samples = jax.random.multivariate_normal(new_key, mean=par_min, cov=inv_hessian_min, shape=(5000,)) "
   ]
  },
  {
   "cell_type": "code",
   "execution_count": null,
   "id": "a16fdc67-1314-460c-9e62-df6244366521",
   "metadata": {},
   "outputs": [],
   "source": [
    "samples = samples.T"
   ]
  },
  {
   "cell_type": "code",
   "execution_count": null,
   "id": "540a7b6c-f157-4721-9efe-185512cf3f02",
   "metadata": {},
   "outputs": [],
   "source": [
    "samples.shape"
   ]
  },
  {
   "cell_type": "code",
   "execution_count": null,
   "id": "ca914481-c454-456b-9778-eb104f776d94",
   "metadata": {},
   "outputs": [],
   "source": [
    "fig,ax=plt.subplots(1,1,figsize=(6,4))\n",
    "az.plot_posterior({\"$P$\":samples[0,:]},point_estimate='mean',ax=ax);"
   ]
  },
  {
   "cell_type": "markdown",
   "id": "de76ac8f-725f-42d0-a427-ad1eed20f553",
   "metadata": {},
   "source": [
    "# Contours plots : Fisher forecast"
   ]
  },
  {
   "cell_type": "markdown",
   "id": "d84e6e5a-9f4b-47e8-b81e-799960e4a840",
   "metadata": {},
   "source": [
    "$$\n",
    "\\Large\n",
    "F_{i,j} = \\sum_{t:t_{mes}} \\frac{1}{\\sigma^2} \\frac{\\partial f(p_{true},t)}{\\partial p_i}\\frac{\\partial f(p_{true},t)}{\\partial p_j}\n",
    "$$\n",
    "généralisation dans le cas de données avec une matrice de covariance non-diagonale."
   ]
  },
  {
   "cell_type": "code",
   "execution_count": null,
   "id": "0d07a16f-f9b5-487d-8628-79e6c15bac8b",
   "metadata": {},
   "outputs": [],
   "source": [
    "def f(p):\n",
    "    par = OrderedDict({\"P\":p[0], \"pwv\":p[1], \"oz\":p[2], \"tau\":p[3],\"beta\":p[4]})\n",
    "    return mean_transm(wls,par,airmass) "
   ]
  },
  {
   "cell_type": "code",
   "execution_count": null,
   "id": "bc479c75-6066-4b08-9de9-8ca5d3c269bd",
   "metadata": {},
   "outputs": [],
   "source": [
    "p_true = np.fromiter(par_true.values(), dtype=float)\n",
    "p_true"
   ]
  },
  {
   "cell_type": "code",
   "execution_count": null,
   "id": "99e2346e-7802-43ec-8177-400e6fbf2555",
   "metadata": {},
   "outputs": [],
   "source": [
    "jac = jax.jacfwd(f)(p_true)"
   ]
  },
  {
   "cell_type": "code",
   "execution_count": null,
   "id": "2ea544c4-b473-4976-b154-10f58475ce85",
   "metadata": {},
   "outputs": [],
   "source": [
    "jac.shape"
   ]
  },
  {
   "cell_type": "code",
   "execution_count": null,
   "id": "08fb6ea7-54ce-424c-952e-2d44596f552f",
   "metadata": {},
   "outputs": [],
   "source": [
    "cov_inv = np.zeros((jac.shape[0],jac.shape[0]))\n",
    "di = np.diag_indices(cov_inv.shape[0])\n",
    "cov_inv[di]=1./sigma_obs**2"
   ]
  },
  {
   "cell_type": "code",
   "execution_count": null,
   "id": "c7fa440d-c5de-4f2d-9ce5-b9e8c7b17c66",
   "metadata": {},
   "outputs": [],
   "source": [
    "F = jnp.einsum('ia,ij,jb',jac,cov_inv,jac)\n",
    "F = 0.5*(F+F.T)"
   ]
  },
  {
   "cell_type": "code",
   "execution_count": null,
   "id": "43e806d2-c34f-44ff-afee-6b4aee1af4fd",
   "metadata": {},
   "outputs": [],
   "source": [
    "F.shape"
   ]
  },
  {
   "cell_type": "code",
   "execution_count": null,
   "id": "7ceeaa02-11bc-4da9-a89a-79b840f7aca6",
   "metadata": {},
   "outputs": [],
   "source": [
    "from matplotlib.patches import Ellipse\n",
    "\n",
    "def plot_contours(fisher, pos, inds, nstd=1., ax=None, **kwargs):\n",
    "  \"\"\"\n",
    "  Plot 2D parameter contours given a Hessian matrix of the likelihood\n",
    "  \"\"\"\n",
    "  \n",
    "  def eigsorted(cov):\n",
    "    vals, vecs = np.linalg.eigh(cov)\n",
    "    order = vals.argsort()[::-1]\n",
    "    return vals[order], vecs[:, order]\n",
    "\n",
    "  mat = fisher\n",
    "  cov = np.linalg.inv(mat)\n",
    "  sigma_marg = lambda i: np.sqrt(cov[i, i])\n",
    "\n",
    "  if ax is None:\n",
    "      ax = plt.gca()\n",
    "\n",
    "  # Extracts the block we are interested in\n",
    "  cov = cov[inds][::,inds]\n",
    "  vals, vecs = eigsorted(cov)\n",
    "  theta = np.degrees(np.arctan2(*vecs[:, 0][::-1]))\n",
    "\n",
    "  # Width and height are \"full\" widths, not radius\n",
    "  width, height = 2 * nstd * np.sqrt(vals)\n",
    "  ellip = Ellipse(xy=pos[inds], width=width,\n",
    "                  height=height, angle=theta, **kwargs)\n",
    "\n",
    "  ax.add_artist(ellip)\n",
    "  sz = max(width, height)\n",
    "  s1 = 1.5*nstd*sigma_marg(0)\n",
    "  s2 = 1.5*nstd*sigma_marg(1)\n",
    "  ax.set_xlim(pos[inds[0]] - s1, pos[inds[0]] + s1)\n",
    "  ax.set_ylim(pos[inds[1]] - s2, pos[inds[1]] + s2)\n",
    "  plt.draw()\n",
    "  return ellip"
   ]
  },
  {
   "cell_type": "code",
   "execution_count": null,
   "id": "ff35a9ec-b349-47c8-a9dd-d24802bdb95f",
   "metadata": {},
   "outputs": [],
   "source": [
    "npar = p_true.shape[0]\n",
    "pname = [\"P\",\"pwv\",\"oz\",r\"$\\tau$\",r\"$\\beta$\"]\n",
    "plt.figure(figsize=(20, 20))\n",
    "for i in range(0,npar):\n",
    "    for j in range(npar):\n",
    "        if j<i:\n",
    "            plt.subplot(npar,npar,i*npar+j+1)\n",
    "            plt.scatter(p_true[j],p_true[i], label=\"true\")\n",
    "            plt.scatter(par_min[j],par_min[i], label=\"mini\")\n",
    "            plt.xlabel(pname[j])\n",
    "            plt.ylabel(pname[i])            \n",
    "            plot_contours(F, p_true, [j,i],fill=False,color='C0')\n",
    "            if j==0 and i==1: plt.legend()"
   ]
  },
  {
   "cell_type": "code",
   "execution_count": null,
   "id": "934f368f-4e26-40c0-9244-0d73a2257f47",
   "metadata": {},
   "outputs": [],
   "source": []
  },
  {
   "cell_type": "code",
   "execution_count": null,
   "id": "9019cd80-9683-4f3d-bf57-4195e9dd4c2e",
   "metadata": {},
   "outputs": [],
   "source": [
    "param_spls.shape"
   ]
  },
  {
   "cell_type": "code",
   "execution_count": null,
   "id": "683011e0-2084-4d51-a21c-adb0e36ecf9e",
   "metadata": {},
   "outputs": [],
   "source": [
    "data = OrderedDict({\"P\":param_spls[:,0], \"pwv\":param_spls[:,1],\"oz\":param_spls[:,2],\"tau\":param_spls[:,3],\"beta\":param_spls[:,4]})"
   ]
  },
  {
   "cell_type": "code",
   "execution_count": null,
   "id": "2a664305-7356-43d5-ac12-234722d9d49c",
   "metadata": {},
   "outputs": [],
   "source": [
    "nparams =len(data)\n",
    "nparams\n",
    "par_names = [\"P\",\"pwv\",\"oz\",\"tau\",\"beta\"]"
   ]
  },
  {
   "cell_type": "code",
   "execution_count": null,
   "id": "af5d6f1d-a2bb-4d9a-bd09-cac5d9e3639d",
   "metadata": {},
   "outputs": [],
   "source": [
    "import arviz.labels as azl\n",
    "\n",
    "labeller = azl.MapLabeller(var_name_map=OrderedDict({\"P\": r\"$P$\", \n",
    "                                         \"pwv\":r\"$H_2O$\",\n",
    "                                         \"oz\":r\"$O_3$\",\n",
    "                                         \"tau\":r\"$\\tau$\",\n",
    "                                         \"beta\":r\"$\\beta$\" \n",
    "                                        }))\n"
   ]
  },
  {
   "cell_type": "code",
   "execution_count": null,
   "id": "54efc1db-57fc-4ac5-ae7a-ccc06051d041",
   "metadata": {},
   "outputs": [],
   "source": [
    "ax=az.plot_pair(\n",
    "        data,\n",
    "        kind=\"kde\",\n",
    "        labeller=labeller,\n",
    "        marginal_kwargs={\"plot_kwargs\": {\"lw\":3, \"c\":\"blue\", \"ls\":\"-\"}},\n",
    "        kde_kwargs={\n",
    "            \"hdi_probs\": [0.3, 0.68, 0.9],  # Plot 30%, 68% and 90% HDI contours\n",
    "            \"contour_kwargs\":{\"colors\":None, \"cmap\":\"Blues\", \"linewidths\":3,\n",
    "                              \"linestyles\":\"-\"},\n",
    "            \"contourf_kwargs\":{\"alpha\":0.5},\n",
    "        },\n",
    "        point_estimate_kwargs={\"lw\": 3, \"c\": \"b\"},\n",
    "        marginals=True, textsize=50, point_estimate='median',\n",
    "    );\n",
    "\n",
    "# plot true parameter point\n",
    "for idy in range(nparams):\n",
    "    for idx in range(idy):\n",
    "        label_x = par_names[idx]\n",
    "        label_y = par_names[idy]\n",
    "        ax[idy,idx].scatter(par_true[label_x],par_true[label_y],c=\"r\",s=150,zorder=10)\n",
    "        print(idx,idy,label_x,label_y,par_true[label_x] ,par_true[label_y] )\n",
    "        \n",
    "\n",
    "for idx,name in enumerate(par_names):\n",
    "    ax[idx,idx].axvline(par_true[name],c='r',lw=3)\n",
    "    "
   ]
  },
  {
   "cell_type": "code",
   "execution_count": null,
   "id": "7aee926d-6f72-42a3-b491-e6d4e21c07cf",
   "metadata": {},
   "outputs": [],
   "source": []
  }
 ],
 "metadata": {
  "kernelspec": {
   "display_name": "conda_py310",
   "language": "python",
   "name": "conda_py310"
  },
  "language_info": {
   "codemirror_mode": {
    "name": "ipython",
    "version": 3
   },
   "file_extension": ".py",
   "mimetype": "text/x-python",
   "name": "python",
   "nbconvert_exporter": "python",
   "pygments_lexer": "ipython3",
   "version": "3.10.12"
  }
 },
 "nbformat": 4,
 "nbformat_minor": 5
}
