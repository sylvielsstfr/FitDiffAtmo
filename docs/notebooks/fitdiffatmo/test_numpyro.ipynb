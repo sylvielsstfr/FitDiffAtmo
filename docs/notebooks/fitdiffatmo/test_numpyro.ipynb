{
 "cells": [
  {
   "cell_type": "markdown",
   "id": "ad4333a6-f9a6-4393-8d53-74f075b2ade1",
   "metadata": {},
   "source": [
    "# Prepare to try HMC methods"
   ]
  },
  {
   "cell_type": "markdown",
   "id": "8a482af8-bdfd-4c0a-93c2-29140d7ceb5e",
   "metadata": {},
   "source": [
    "https://github.com/DifferentiableUniverseInitiative/jax-cosmo-paper/blob/master/notebooks/VectorizedNumPyro.ipynb"
   ]
  },
  {
   "cell_type": "code",
   "execution_count": null,
   "id": "a0eb9248-6249-4444-a7d4-abb31e610865",
   "metadata": {},
   "outputs": [],
   "source": [
    "from diffatmemulator.diffatmemulator import DiffAtmEmulator\n",
    "from diffatmemulator.diffatmemulator import Dict_Of_sitesAltitudes,Dict_Of_sitesPressures"
   ]
  },
  {
   "cell_type": "code",
   "execution_count": null,
   "id": "75cb1049-4aa6-4267-9c4d-ff892b8ccfb0",
   "metadata": {},
   "outputs": [],
   "source": [
    "from instrument.instrument import Hologram"
   ]
  },
  {
   "cell_type": "code",
   "execution_count": null,
   "id": "0abfbf7b-3d25-4061-b01c-1b88ef5fb996",
   "metadata": {},
   "outputs": [],
   "source": [
    "import numpy as np\n",
    "\n",
    "\n",
    "import jax\n",
    "import jax.numpy as jnp\n",
    "from jax.scipy.special import logsumexp\n",
    "jax.config.update(\"jax_enable_x64\", True)\n",
    "\n",
    "import numpyro\n",
    "from numpyro import optim\n",
    "from numpyro.diagnostics import print_summary\n",
    "import numpyro.distributions as dist\n",
    "from numpyro.distributions import constraints\n",
    "from numpyro.infer import MCMC, HMC, NUTS, SVI, Trace_ELBO\n",
    "from numpyro.infer.autoguide import AutoBNAFNormal, AutoMultivariateNormal\n",
    "from numpyro.infer.reparam import NeuTraReparam\n",
    "from numpyro.handlers import seed, trace, condition\n",
    "\n",
    "import matplotlib as mpl\n",
    "from matplotlib import pyplot as plt\n",
    "\n",
    "import corner\n",
    "import arviz as az\n",
    "mpl.rcParams['font.size'] = 20"
   ]
  },
  {
   "cell_type": "code",
   "execution_count": null,
   "id": "686f274a-6c4e-4bd4-8bc4-45c3cd892dfd",
   "metadata": {},
   "outputs": [],
   "source": [
    "import os\n",
    "import jax\n",
    "import jax.numpy as jnp\n",
    "import numpyro\n",
    "import numpyro.distributions as dist"
   ]
  },
  {
   "cell_type": "markdown",
   "id": "519792bb-e535-45d6-8c92-17d5e11a2b69",
   "metadata": {},
   "source": [
    "# Instrument"
   ]
  },
  {
   "cell_type": "code",
   "execution_count": null,
   "id": "1a0d5e9b-2cad-469e-9b9c-14f1e3cd2066",
   "metadata": {},
   "outputs": [],
   "source": [
    "h = Hologram(rebin=2)"
   ]
  },
  {
   "cell_type": "code",
   "execution_count": null,
   "id": "fb0dfc7f-94a9-49b3-861d-daf37ea31db8",
   "metadata": {},
   "outputs": [],
   "source": [
    "wls = h.get_wavelength_sample()"
   ]
  },
  {
   "cell_type": "code",
   "execution_count": null,
   "id": "e20d5905-bf4d-4a73-95b5-f70bf828a104",
   "metadata": {},
   "outputs": [],
   "source": []
  },
  {
   "cell_type": "markdown",
   "id": "d26eee32-9b2d-4a46-86b5-694dbb1b6a74",
   "metadata": {},
   "source": [
    "## Emulator"
   ]
  },
  {
   "cell_type": "code",
   "execution_count": null,
   "id": "3bf115f9-5276-46e6-a4d6-ea6cef42fb10",
   "metadata": {},
   "outputs": [],
   "source": [
    "obs_str = \"LSST\"\n",
    "emul =  DiffAtmEmulator(obs_str=obs_str)"
   ]
  },
  {
   "cell_type": "markdown",
   "id": "cac4607b-4c71-4c31-a77a-df5473676c59",
   "metadata": {},
   "source": [
    "## Definition of Forward Model"
   ]
  },
  {
   "cell_type": "code",
   "execution_count": null,
   "id": "c1bef376-a414-418d-976b-c153c057ac92",
   "metadata": {},
   "outputs": [],
   "source": [
    "class ForwardModel(object):\n",
    "    def __init__(emul):\n",
    "        self.e = emul\n",
    "    def getData():\n",
    "        return 0"
   ]
  },
  {
   "cell_type": "code",
   "execution_count": null,
   "id": "bcad28b9-e74c-4461-8ec1-98f4ce970134",
   "metadata": {},
   "outputs": [],
   "source": []
  },
  {
   "cell_type": "code",
   "execution_count": null,
   "id": "87540d9b-b424-4c5c-bf67-cef77c25c2a6",
   "metadata": {},
   "outputs": [],
   "source": []
  },
  {
   "cell_type": "code",
   "execution_count": null,
   "id": "26e41306-3963-4be0-82d7-3c9ee7f709d6",
   "metadata": {},
   "outputs": [],
   "source": []
  },
  {
   "cell_type": "code",
   "execution_count": null,
   "id": "36747d07-7247-4abd-80e4-dbf7c0ec9245",
   "metadata": {},
   "outputs": [],
   "source": [
    "from numpyro.distributions.transforms import AffineTransform\n",
    "\n",
    "def Uniform(name, min_value, max_value):\n",
    "    \"\"\" Creates a Uniform distribution in target range from a base\n",
    "    distribution between [-3, 3]\n",
    "    \"\"\"\n",
    "    s = (max_value - min_value) / 6.\n",
    "    return numpyro.sample(\n",
    "            name,\n",
    "            dist.TransformedDistribution(\n",
    "                dist.Uniform(-3., 3.),\n",
    "                AffineTransform(min_value + 3.*s, s),\n",
    "            ),\n",
    "        )\n"
   ]
  },
  {
   "cell_type": "code",
   "execution_count": null,
   "id": "5f94f170-c77d-4a51-85ef-8dfa224a5579",
   "metadata": {},
   "outputs": [],
   "source": []
  },
  {
   "cell_type": "code",
   "execution_count": null,
   "id": "0763f65f-806c-4a2a-8457-5951cee1aef4",
   "metadata": {},
   "outputs": [],
   "source": [
    "# Let's define our model using numpyro\n",
    "# Papier https://arxiv.org/pdf/1708.01530.pdf  and desy1.py\n",
    "def model():\n",
    "    #  atmospheric  params\n",
    "    pressure = numpyro.sample('pressure', dist.Uniform(700., 780.))\n",
    "    pwv = numpyro.sample('pwv', dist.Uniform(0., 10.0))\n",
    "    oz = numpyro.sample('oz', dist.Uniform(0., 600.))\n",
    "    tau = numpyro.sample('tau', dist.Uniform(0., 0.3))\n",
    "    beta = numpyro.sample('beta', dist.Uniform(-3., 0.1)) \n",
    "    A = numpyro.sample('A', dist.Uniform(0, 1.0))\n",
    "\n",
    "     \n",
    "    # Now that params are defined, here is the forward model\n",
    "    cosmo = jc.Cosmology(Omega_c=Omega_c, sigma8=sigma8, Omega_b=Omega_b,\n",
    "                          h=h, n_s=n_s, w0=w0, Omega_k=0., wa=0.)\n",
    "    \n",
    "    # Build source nz with redshift systematic bias\n",
    "    nzs_s_sys = [jc.redshift.systematic_shift(nzi, dzi, zmax=2.0) \n",
    "                for nzi, dzi in zip(nzs_s, dz)]\n",
    "    \n",
    "    # Define IA model, z0 is fixed\n",
    "    b_ia = jc.bias.des_y1_ia_bias(A, eta, 0.62)\n",
    "\n",
    "    # Bias for the lenses\n",
    "    b = [jc.bias.constant_linear_bias(bi) for bi in bias] \n",
    "    \n",
    "    # Define the lensing and number counts probe\n",
    "    probes = [jc.probes.WeakLensing(nzs_s_sys, \n",
    "                                    ia_bias=b_ia,\n",
    "                                    multiplicative_bias=m),\n",
    "             jc.probes.NumberCounts(nzs_l, b)]\n",
    "\n",
    "    cl, C = jc.angular_cl.gaussian_cl_covariance_and_mean(cosmo, ell, probes, \n",
    "                                                          f_sky=0.25, sparse=True)\n",
    "    \n",
    "    P = jc.sparse.to_dense(jc.sparse.inv(C))\n",
    "    C = jc.sparse.to_dense(C)\n",
    "    return cl, P, C\n"
   ]
  },
  {
   "cell_type": "code",
   "execution_count": null,
   "id": "59d24f13-e2c5-4871-a5be-c1243f959a67",
   "metadata": {},
   "outputs": [],
   "source": [
    "from numpyro.handlers import seed, trace, condition\n",
    "# So, let's generate the data at the fiducial parameters\n",
    "fiducial_model = condition(model,\n",
    "    {'pressure':730., 'pwv':5.0, 'oz':300., 'tau':0., 'beta':-1.,'A':0.})\n",
    "     \n",
    "\n",
    "with seed(rng_seed=42):\n",
    "    data, P, C = fiducial_model()\n"
   ]
  },
  {
   "cell_type": "code",
   "execution_count": null,
   "id": "57f1439f-4efc-4ee3-8044-b0273edaa525",
   "metadata": {},
   "outputs": [],
   "source": []
  },
  {
   "cell_type": "code",
   "execution_count": null,
   "id": "25317281-ce1b-4c39-9319-4b57a5cdf978",
   "metadata": {},
   "outputs": [],
   "source": []
  }
 ],
 "metadata": {
  "kernelspec": {
   "display_name": "conda_py310",
   "language": "python",
   "name": "conda_py310"
  },
  "language_info": {
   "codemirror_mode": {
    "name": "ipython",
    "version": 3
   },
   "file_extension": ".py",
   "mimetype": "text/x-python",
   "name": "python",
   "nbconvert_exporter": "python",
   "pygments_lexer": "ipython3",
   "version": "3.10.12"
  }
 },
 "nbformat": 4,
 "nbformat_minor": 5
}
