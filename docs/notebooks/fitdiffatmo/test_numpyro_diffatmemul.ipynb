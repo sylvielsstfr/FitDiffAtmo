{
 "cells": [
  {
   "cell_type": "markdown",
   "id": "ad4333a6-f9a6-4393-8d53-74f075b2ade1",
   "metadata": {},
   "source": [
    "# Prepare to try HMC methods"
   ]
  },
  {
   "cell_type": "markdown",
   "id": "8a482af8-bdfd-4c0a-93c2-29140d7ceb5e",
   "metadata": {},
   "source": [
    "https://github.com/DifferentiableUniverseInitiative/jax-cosmo-paper/blob/master/notebooks/VectorizedNumPyro.ipynb"
   ]
  },
  {
   "cell_type": "code",
   "execution_count": 1,
   "id": "a0eb9248-6249-4444-a7d4-abb31e610865",
   "metadata": {},
   "outputs": [],
   "source": [
    "from diffatmemulator.diffatmemulator import DiffAtmEmulator\n",
    "from diffatmemulator.diffatmemulator import Dict_Of_sitesAltitudes,Dict_Of_sitesPressures"
   ]
  },
  {
   "cell_type": "code",
   "execution_count": 2,
   "id": "75cb1049-4aa6-4267-9c4d-ff892b8ccfb0",
   "metadata": {},
   "outputs": [],
   "source": [
    "from instrument.instrument import Hologram"
   ]
  },
  {
   "cell_type": "code",
   "execution_count": 3,
   "id": "0abfbf7b-3d25-4061-b01c-1b88ef5fb996",
   "metadata": {},
   "outputs": [],
   "source": [
    "import numpy as np\n",
    "\n",
    "\n",
    "import jax\n",
    "import jax.numpy as jnp\n",
    "from jax.scipy.special import logsumexp\n",
    "jax.config.update(\"jax_enable_x64\", True)\n",
    "\n",
    "import numpyro\n",
    "from numpyro import optim\n",
    "from numpyro.diagnostics import print_summary\n",
    "import numpyro.distributions as dist\n",
    "from numpyro.distributions import constraints\n",
    "from numpyro.infer import MCMC, HMC, NUTS, SVI, Trace_ELBO\n",
    "from numpyro.infer.autoguide import AutoBNAFNormal, AutoMultivariateNormal\n",
    "from numpyro.infer.reparam import NeuTraReparam\n",
    "from numpyro.handlers import seed, trace, condition\n",
    "\n",
    "import matplotlib as mpl\n",
    "from matplotlib import pyplot as plt\n",
    "\n",
    "import corner\n",
    "import arviz as az\n",
    "mpl.rcParams['font.size'] = 20"
   ]
  },
  {
   "cell_type": "code",
   "execution_count": 4,
   "id": "686f274a-6c4e-4bd4-8bc4-45c3cd892dfd",
   "metadata": {},
   "outputs": [],
   "source": [
    "import os\n",
    "import jax\n",
    "import jax.numpy as jnp\n",
    "import numpyro\n",
    "import numpyro.distributions as dist"
   ]
  },
  {
   "cell_type": "code",
   "execution_count": 5,
   "id": "c338c29a-64de-4be6-abc2-0ada85ff8018",
   "metadata": {},
   "outputs": [],
   "source": [
    "def plot_params_kde(samples,hdi_probs=[0.393, 0.865, 0.989], \n",
    "                    patName=None, fname=None, pcut=None,\n",
    "                   var_names=None, point_estimate=\"median\"):\n",
    "    \n",
    "    if pcut is not None:\n",
    "        low = pcut[0]\n",
    "        up  = pcut[1] \n",
    "        #keep only data in the [low, up] percentiles ex. 0.5, 99.5\n",
    "        samples={name:value[(value>np.percentile(value,low)) &  (value<np.percentile(value,up))] \\\n",
    "          for name, value in samples.items()}\n",
    "        len_min = np.min([len(value) for name, value in samples.items()])\n",
    "        len_max = np.max([len(value) for name, value in samples.items()])\n",
    "        if (len_max-len_min)>0.01*len_max:\n",
    "            print(f\"Warning: pcut leads to min/max spls size = {len_min}/{len_max}\")\n",
    "        samples = {name:value[:len_min] for name, value in samples.items()}\n",
    "    \n",
    "    axs= az.plot_pair(\n",
    "            samples,\n",
    "            var_names=var_names,\n",
    "            figsize=(10,10),\n",
    "            kind=\"kde\",\n",
    "    #        marginal_kwargs={\"plot_kwargs\": {\"lw\": 3, \"c\": \"b\"}},\n",
    "            kde_kwargs={\n",
    "#                \"hdi_probs\": [0.68, 0.9],  # Plot 68% and 90% HDI contours\n",
    "                \"hdi_probs\":hdi_probs,  # 1, 2 and 3 sigma contours\n",
    "                \"contour_kwargs\":{\"colors\":('r', 'green', 'blue'), \"linewidths\":3},\n",
    "                \"contourf_kwargs\":{\"alpha\":0},\n",
    "            },\n",
    "            point_estimate_kwargs={\"lw\": 3, \"c\": \"b\"},\n",
    "            marginals=True, textsize=20, point_estimate=point_estimate,\n",
    "        );\n",
    "    \n",
    "    plt.tight_layout()\n",
    "    \n",
    "    if patName is not None:\n",
    "        patName_patch = mpatches.Patch(color='b', label=patName)\n",
    "        axs[0,0].legend(handles=[patName_patch], fontsize=40, bbox_to_anchor=(1, 0.7));\n",
    "    if fname is not None:\n",
    "        plt.savefig(fname)\n",
    "        plt.close()"
   ]
  },
  {
   "cell_type": "markdown",
   "id": "519792bb-e535-45d6-8c92-17d5e11a2b69",
   "metadata": {},
   "source": [
    "# Instrument"
   ]
  },
  {
   "cell_type": "code",
   "execution_count": 6,
   "id": "1a0d5e9b-2cad-469e-9b9c-14f1e3cd2066",
   "metadata": {},
   "outputs": [],
   "source": [
    "h = Hologram(rebin=2)"
   ]
  },
  {
   "cell_type": "code",
   "execution_count": 7,
   "id": "fb0dfc7f-94a9-49b3-861d-daf37ea31db8",
   "metadata": {},
   "outputs": [],
   "source": [
    "wls = h.get_wavelength_sample()"
   ]
  },
  {
   "cell_type": "code",
   "execution_count": null,
   "id": "e20d5905-bf4d-4a73-95b5-f70bf828a104",
   "metadata": {},
   "outputs": [],
   "source": []
  },
  {
   "cell_type": "markdown",
   "id": "d26eee32-9b2d-4a46-86b5-694dbb1b6a74",
   "metadata": {},
   "source": [
    "## Emulator"
   ]
  },
  {
   "cell_type": "code",
   "execution_count": 8,
   "id": "3bf115f9-5276-46e6-a4d6-ea6cef42fb10",
   "metadata": {},
   "outputs": [],
   "source": [
    "obs_str = \"LSST\"\n",
    "\n",
    "emul1 =  DiffAtmEmulator(obs_str=obs_str)\n",
    "emul2 =  DiffAtmEmulator(obs_str=obs_str,pressure=800.)"
   ]
  },
  {
   "cell_type": "code",
   "execution_count": 9,
   "id": "45f7da84-e150-48fc-823b-f09bdf0c33d7",
   "metadata": {},
   "outputs": [
    {
     "data": {
      "text/plain": [
       "Array(731.50433, dtype=float64, weak_type=True)"
      ]
     },
     "execution_count": 9,
     "metadata": {},
     "output_type": "execute_result"
    }
   ],
   "source": [
    "emul1.pressure"
   ]
  },
  {
   "cell_type": "code",
   "execution_count": 10,
   "id": "1244ba02-4007-4fea-9780-2a59e645d001",
   "metadata": {},
   "outputs": [
    {
     "data": {
      "text/plain": [
       "Array(800., dtype=float64, weak_type=True)"
      ]
     },
     "execution_count": 10,
     "metadata": {},
     "output_type": "execute_result"
    }
   ],
   "source": [
    "emul2.pressure"
   ]
  },
  {
   "cell_type": "code",
   "execution_count": 11,
   "id": "3db6fbf7-a17f-4366-8535-4db257f6131d",
   "metadata": {},
   "outputs": [],
   "source": [
    "transm1 = emul1.vect1d_Alltransparencies(wls,am=1,pwv=4.0,oz=400.,tau=0.1,beta=-1.2)\n",
    "transm2 = emul2.vect1d_Alltransparencies(wls,am=1,pwv=4.0,oz=400.,tau=0.1,beta=-1.2)"
   ]
  },
  {
   "cell_type": "code",
   "execution_count": 12,
   "id": "3025e267-d044-4b04-aa63-cd4c5dac28e7",
   "metadata": {},
   "outputs": [
    {
     "data": {
      "text/plain": [
       "Text(0.5, 1.0, 'mean air transparency')"
      ]
     },
     "execution_count": 12,
     "metadata": {},
     "output_type": "execute_result"
    },
    {
     "data": {
      "image/png": "[encoded data removed]",
      "text/plain": [
       "<Figure size 600x300 with 1 Axes>"
      ]
     },
     "metadata": {},
     "output_type": "display_data"
    }
   ],
   "source": [
    "fig,ax = plt.subplots(1,1,figsize=(6,3))\n",
    "ax.plot(wls,transm1,'b')\n",
    "ax.plot(wls,transm2,'r')\n",
    "ax.set_xlabel(\"$\\lambda$ (nm)\")\n",
    "ax.set_ylabel(\"transmission\")\n",
    "ax.set_title(\"mean air transparency\")"
   ]
  },
  {
   "cell_type": "code",
   "execution_count": 13,
   "id": "4cbb7245-4009-4ae0-812c-92e3e931ad2e",
   "metadata": {},
   "outputs": [],
   "source": [
    "def mean_transm(x, params,airmass):\n",
    "    \"\"\" mean function of the model of transmission \n",
    "    :param x: set of wavelengths measured experimentaly (independent variable)  \n",
    "    :type x: float, in unit nm\n",
    "    \n",
    "    :param params: dictionnary of parameters to be fitted\n",
    "    :type params: float\n",
    "    ...\n",
    "    :raises [ErrorType]: [ErrorDescription]\n",
    "    ...\n",
    "    :return: return the transmission\n",
    "    :rtype: float\n",
    "\n",
    "    Assume the airmass is set to 1.0\n",
    "    \n",
    "    \"\"\"\n",
    "    pressure = params[\"P\"]\n",
    "    pwv  = params[\"pwv\"]\n",
    "    oz = params[\"oz\"]\n",
    "    tau =  params[\"tau\"]\n",
    "    beta =  params[\"beta\"]\n",
    "\n",
    "    airmass = airmass\n",
    "    wls = x\n",
    "\n",
    "    emul = DiffAtmEmulator(obs_str=obs_str,pressure=pressure)\n",
    "    transm= emul.vect1d_Alltransparencies(wls,am=airmass,pwv=pwv,\n",
    "                                          oz=oz,tau=tau,beta=beta)\n",
    "    \n",
    "    return transm"
   ]
  },
  {
   "cell_type": "code",
   "execution_count": 14,
   "id": "b8cc0848-75b0-487c-8b94-e6691cd4f397",
   "metadata": {},
   "outputs": [],
   "source": [
    "rng_key = jax.random.PRNGKey(42)\n",
    "rng_key, rng_key0, rng_key1, rng_key2 = jax.random.split(rng_key, 4)"
   ]
  },
  {
   "cell_type": "code",
   "execution_count": 15,
   "id": "811a0e75-2f35-4849-be0e-85f4410f021a",
   "metadata": {},
   "outputs": [],
   "source": [
    "sigma_obs=0.01 # 5 mmag accuracy"
   ]
  },
  {
   "cell_type": "code",
   "execution_count": 16,
   "id": "dfeb2681-a980-4357-8d57-e48c5211ca68",
   "metadata": {},
   "outputs": [],
   "source": [
    "airmass = 1.0\n",
    "par_true={\"P\":730.0, \"pwv\":4.0, \"oz\":400, \"tau\": 0.05, \"beta\": -1.2}"
   ]
  },
  {
   "cell_type": "code",
   "execution_count": 17,
   "id": "e7f831a8-6013-4e2d-9bec-376bcd23c534",
   "metadata": {},
   "outputs": [],
   "source": [
    "TMes = mean_transm(wls,par_true,airmass) + sigma_obs * jax.random.normal(rng_key1,shape=wls.shape)"
   ]
  },
  {
   "cell_type": "code",
   "execution_count": 18,
   "id": "50766b0c-dd26-4f63-93b2-06fe4b051edf",
   "metadata": {},
   "outputs": [
    {
     "data": {
      "text/plain": [
       "<ErrorbarContainer object of 3 artists>"
      ]
     },
     "execution_count": 18,
     "metadata": {},
     "output_type": "execute_result"
    },
    {
     "data": {
      "image/png": "[encoded data removed]",
      "text/plain": [
       "<Figure size 1000x300 with 1 Axes>"
      ]
     },
     "metadata": {},
     "output_type": "display_data"
    }
   ],
   "source": [
    "fig,ax = plt.subplots(1,1,figsize=(10,3))\n",
    "ax.errorbar(wls,TMes,yerr=sigma_obs,fmt=\"o\",ms=1,color=\"k\",ecolor=\"r\",lw=1)"
   ]
  },
  {
   "cell_type": "code",
   "execution_count": 19,
   "id": "6a0273ce-9421-4d5c-a5f7-68b49f7d116b",
   "metadata": {},
   "outputs": [],
   "source": [
    "def model(wls,Tobs=None,\n",
    "          P_min=700.,pwv_min = 0.,oz_min = 0., tau_min=0.,beta_min=-3,\n",
    "          P_max=800.,pwv_max = 10.,oz_max = 550., tau_max=0.5,beta_max=0,\n",
    "          airmass=1,sigma= 0.01):\n",
    "    \n",
    "    # priors\n",
    "    pressure = numpyro.sample(\"P\", dist.Uniform(P_min,P_max))\n",
    "    pwv  = numpyro.sample(\"pwv\", dist.Uniform(pwv_min,pwv_max))\n",
    "    oz  = numpyro.sample(\"oz\", dist.Uniform(oz_min,oz_max))\n",
    "    tau= numpyro.sample(\"tau\", dist.Uniform(tau_min,tau_max))\n",
    "    beta= numpyro.sample(\"beta\", dist.Uniform(beta_min,beta_max))\n",
    "    \n",
    "    params = {\"P\":pressure, \"pwv\":pwv, \"oz\":oz, \"tau\":tau, \"beta\":beta}\n",
    "    mu = mean_transm(wls,params,airmass)\n",
    "    \n",
    "    with numpyro.plate(\"obs\", wls.shape[0]):  # les observables sont indépendantes\n",
    "        numpyro.sample('T', dist.Normal(mu, sigma), obs=Tobs)\n"
   ]
  },
  {
   "cell_type": "code",
   "execution_count": 20,
   "id": "e5666b1b-c5df-4b51-9d29-6d01273a40db",
   "metadata": {},
   "outputs": [
    {
     "data": {
      "image/svg+xml": [
       "<?xml version=\"1.0\" encoding=\"UTF-8\" standalone=\"no\"?>\n",
       "<!DOCTYPE svg PUBLIC \"-//W3C//DTD SVG 1.1//EN\"\n",
       " \"http://www.w3.org/Graphics/SVG/1.1/DTD/svg11.dtd\">\n",
       "<!-- Generated by graphviz version 8.1.0 (0)\n",
       " -->\n",
       "<!-- Pages: 1 -->\n",
       "<svg width=\"470pt\" height=\"228pt\"\n",
       " viewBox=\"0.00 0.00 469.75 227.50\" xmlns=\"http://www.w3.org/2000/svg\" xmlns:xlink=\"http://www.w3.org/1999/xlink\">\n",
       "<g id=\"graph0\" class=\"graph\" transform=\"scale(1 1) rotate(0) translate(4 223.5)\">\n",
       "<polygon fill=\"white\" stroke=\"none\" points=\"-4,4 -4,-223.5 465.75,-223.5 465.75,4 -4,4\"/>\n",
       "<g id=\"clust1\" class=\"cluster\">\n",
       "<title>cluster_obs</title>\n",
       "<polygon fill=\"none\" stroke=\"black\" points=\"136,-8 136,-84.5 206,-84.5 206,-8 136,-8\"/>\n",
       "<text text-anchor=\"middle\" x=\"188.62\" y=\"-15.2\" font-family=\"Times,serif\" font-size=\"14.00\">obs</text>\n",
       "</g>\n",
       "<!-- P -->\n",
       "<g id=\"node1\" class=\"node\">\n",
       "<title>P</title>\n",
       "<ellipse fill=\"white\" stroke=\"black\" cx=\"27\" cy=\"-166\" rx=\"27\" ry=\"18\"/>\n",
       "<text text-anchor=\"middle\" x=\"27\" y=\"-160.95\" font-family=\"Times,serif\" font-size=\"14.00\">P</text>\n",
       "</g>\n",
       "<!-- T -->\n",
       "<g id=\"node6\" class=\"node\">\n",
       "<title>T</title>\n",
       "<ellipse fill=\"grey\" stroke=\"black\" cx=\"171\" cy=\"-58.5\" rx=\"27\" ry=\"18\"/>\n",
       "<text text-anchor=\"middle\" x=\"171\" y=\"-53.45\" font-family=\"Times,serif\" font-size=\"14.00\">T</text>\n",
       "</g>\n",
       "<!-- P&#45;&gt;T -->\n",
       "<g id=\"edge1\" class=\"edge\">\n",
       "<title>P&#45;&gt;T</title>\n",
       "<path fill=\"none\" stroke=\"black\" d=\"M35.27,-148.66C41.63,-137.37 51.3,-122.62 63,-112.5 84.69,-93.75 114.17,-79.87 136.85,-71.03\"/>\n",
       "<polygon fill=\"black\" stroke=\"black\" points=\"137.91,-73.99 146.05,-67.21 135.46,-67.43 137.91,-73.99\"/>\n",
       "</g>\n",
       "<!-- pwv -->\n",
       "<g id=\"node2\" class=\"node\">\n",
       "<title>pwv</title>\n",
       "<ellipse fill=\"white\" stroke=\"black\" cx=\"99\" cy=\"-166\" rx=\"27\" ry=\"18\"/>\n",
       "<text text-anchor=\"middle\" x=\"99\" y=\"-160.95\" font-family=\"Times,serif\" font-size=\"14.00\">pwv</text>\n",
       "</g>\n",
       "<!-- pwv&#45;&gt;T -->\n",
       "<g id=\"edge2\" class=\"edge\">\n",
       "<title>pwv&#45;&gt;T</title>\n",
       "<path fill=\"none\" stroke=\"black\" d=\"M109.62,-149.43C121.31,-132.31 140.25,-104.56 154,-84.41\"/>\n",
       "<polygon fill=\"black\" stroke=\"black\" points=\"157.35,-86.71 160.1,-76.48 151.57,-82.76 157.35,-86.71\"/>\n",
       "</g>\n",
       "<!-- oz -->\n",
       "<g id=\"node3\" class=\"node\">\n",
       "<title>oz</title>\n",
       "<ellipse fill=\"white\" stroke=\"black\" cx=\"171\" cy=\"-166\" rx=\"27\" ry=\"18\"/>\n",
       "<text text-anchor=\"middle\" x=\"171\" y=\"-160.95\" font-family=\"Times,serif\" font-size=\"14.00\">oz</text>\n",
       "</g>\n",
       "<!-- oz&#45;&gt;T -->\n",
       "<g id=\"edge3\" class=\"edge\">\n",
       "<title>oz&#45;&gt;T</title>\n",
       "<path fill=\"none\" stroke=\"black\" d=\"M171,-147.58C171,-131.31 171,-106.76 171,-87.7\"/>\n",
       "<polygon fill=\"black\" stroke=\"black\" points=\"174.5,-87.95 171,-77.95 167.5,-87.95 174.5,-87.95\"/>\n",
       "</g>\n",
       "<!-- tau -->\n",
       "<g id=\"node4\" class=\"node\">\n",
       "<title>tau</title>\n",
       "<ellipse fill=\"white\" stroke=\"black\" cx=\"243\" cy=\"-166\" rx=\"27\" ry=\"18\"/>\n",
       "<text text-anchor=\"middle\" x=\"243\" y=\"-160.95\" font-family=\"Times,serif\" font-size=\"14.00\">tau</text>\n",
       "</g>\n",
       "<!-- tau&#45;&gt;T -->\n",
       "<g id=\"edge4\" class=\"edge\">\n",
       "<title>tau&#45;&gt;T</title>\n",
       "<path fill=\"none\" stroke=\"black\" d=\"M232.38,-149.43C220.69,-132.31 201.75,-104.56 188,-84.41\"/>\n",
       "<polygon fill=\"black\" stroke=\"black\" points=\"190.43,-82.76 181.9,-76.48 184.65,-86.71 190.43,-82.76\"/>\n",
       "</g>\n",
       "<!-- beta -->\n",
       "<g id=\"node5\" class=\"node\">\n",
       "<title>beta</title>\n",
       "<ellipse fill=\"white\" stroke=\"black\" cx=\"315\" cy=\"-166\" rx=\"27\" ry=\"18\"/>\n",
       "<text text-anchor=\"middle\" x=\"315\" y=\"-160.95\" font-family=\"Times,serif\" font-size=\"14.00\">beta</text>\n",
       "</g>\n",
       "<!-- beta&#45;&gt;T -->\n",
       "<g id=\"edge5\" class=\"edge\">\n",
       "<title>beta&#45;&gt;T</title>\n",
       "<path fill=\"none\" stroke=\"black\" d=\"M306.73,-148.66C300.37,-137.37 290.7,-122.62 279,-112.5 257.31,-93.75 227.83,-79.87 205.15,-71.03\"/>\n",
       "<polygon fill=\"black\" stroke=\"black\" points=\"206.54,-67.43 195.95,-67.21 204.09,-73.99 206.54,-67.43\"/>\n",
       "</g>\n",
       "<!-- distribution_description_node -->\n",
       "<g id=\"node7\" class=\"node\">\n",
       "<title>distribution_description_node</title>\n",
       "<text text-anchor=\"start\" x=\"368.25\" y=\"-202.2\" font-family=\"Times,serif\" font-size=\"14.00\">P ~ Uniform</text>\n",
       "<text text-anchor=\"start\" x=\"368.25\" y=\"-185.7\" font-family=\"Times,serif\" font-size=\"14.00\">pwv ~ Uniform</text>\n",
       "<text text-anchor=\"start\" x=\"368.25\" y=\"-169.2\" font-family=\"Times,serif\" font-size=\"14.00\">oz ~ Uniform</text>\n",
       "<text text-anchor=\"start\" x=\"368.25\" y=\"-152.7\" font-family=\"Times,serif\" font-size=\"14.00\">tau ~ Uniform</text>\n",
       "<text text-anchor=\"start\" x=\"368.25\" y=\"-136.2\" font-family=\"Times,serif\" font-size=\"14.00\">beta ~ Uniform</text>\n",
       "<text text-anchor=\"start\" x=\"368.25\" y=\"-119.7\" font-family=\"Times,serif\" font-size=\"14.00\">T ~ Normal</text>\n",
       "</g>\n",
       "</g>\n",
       "</svg>\n"
      ],
      "text/plain": [
       "<graphviz.graphs.Digraph at 0x28e1e4880>"
      ]
     },
     "execution_count": 20,
     "metadata": {},
     "output_type": "execute_result"
    }
   ],
   "source": [
    "numpyro.render_model(model, model_args=(jnp.array([0.]),jnp.array([1.])),render_distributions=True)"
   ]
  },
  {
   "cell_type": "code",
   "execution_count": null,
   "id": "481d20e7-aa3d-4047-aab0-9b4dfe56d4fb",
   "metadata": {},
   "outputs": [],
   "source": []
  },
  {
   "cell_type": "code",
   "execution_count": 21,
   "id": "132598f2-76dd-4c8c-a1cd-84afc61bffcc",
   "metadata": {},
   "outputs": [],
   "source": [
    "from numpyro.handlers import seed, trace, condition\n",
    "# So, let's generate the data at the fiducial parameters\n",
    "fiducial_model = condition(model, par_true)\n",
    "# Run the conditionned model (if not conditionned the priors are executed)\n",
    "trace_data = trace(seed(fiducial_model, jax.random.PRNGKey(42))).get_trace(wls, sigma=sigma_obs)"
   ]
  },
  {
   "cell_type": "code",
   "execution_count": 22,
   "id": "7700442e-a664-4fa6-a614-940503ec5048",
   "metadata": {},
   "outputs": [
    {
     "data": {
      "text/plain": [
       "OrderedDict([('P',\n",
       "              {'type': 'sample',\n",
       "               'name': 'P',\n",
       "               'fn': <numpyro.distributions.continuous.Uniform at 0x28d6f98a0>,\n",
       "               'args': (),\n",
       "               'kwargs': {'rng_key': None, 'sample_shape': ()},\n",
       "               'value': 730.0,\n",
       "               'scale': None,\n",
       "               'is_observed': True,\n",
       "               'intermediates': [],\n",
       "               'cond_indep_stack': [],\n",
       "               'infer': {}}),\n",
       "             ('pwv',\n",
       "              {'type': 'sample',\n",
       "               'name': 'pwv',\n",
       "               'fn': <numpyro.distributions.continuous.Uniform at 0x28d6fb1f0>,\n",
       "               'args': (),\n",
       "               'kwargs': {'rng_key': None, 'sample_shape': ()},\n",
       "               'value': 4.0,\n",
       "               'scale': None,\n",
       "               'is_observed': True,\n",
       "               'intermediates': [],\n",
       "               'cond_indep_stack': [],\n",
       "               'infer': {}}),\n",
       "             ('oz',\n",
       "              {'type': 'sample',\n",
       "               'name': 'oz',\n",
       "               'fn': <numpyro.distributions.continuous.Uniform at 0x28d6fb190>,\n",
       "               'args': (),\n",
       "               'kwargs': {'rng_key': None, 'sample_shape': ()},\n",
       "               'value': 400,\n",
       "               'scale': None,\n",
       "               'is_observed': True,\n",
       "               'intermediates': [],\n",
       "               'cond_indep_stack': [],\n",
       "               'infer': {}}),\n",
       "             ('tau',\n",
       "              {'type': 'sample',\n",
       "               'name': 'tau',\n",
       "               'fn': <numpyro.distributions.continuous.Uniform at 0x28d6f9420>,\n",
       "               'args': (),\n",
       "               'kwargs': {'rng_key': None, 'sample_shape': ()},\n",
       "               'value': 0.05,\n",
       "               'scale': None,\n",
       "               'is_observed': True,\n",
       "               'intermediates': [],\n",
       "               'cond_indep_stack': [],\n",
       "               'infer': {}}),\n",
       "             ('beta',\n",
       "              {'type': 'sample',\n",
       "               'name': 'beta',\n",
       "               'fn': <numpyro.distributions.continuous.Uniform at 0x28d6cfbb0>,\n",
       "               'args': (),\n",
       "               'kwargs': {'rng_key': None, 'sample_shape': ()},\n",
       "               'value': -1.2,\n",
       "               'scale': None,\n",
       "               'is_observed': True,\n",
       "               'intermediates': [],\n",
       "               'cond_indep_stack': [],\n",
       "               'infer': {}}),\n",
       "             ('obs',\n",
       "              {'type': 'plate',\n",
       "               'fn': <function numpyro.primitives._subsample_fn(size, subsample_size, rng_key=None)>,\n",
       "               'name': 'obs',\n",
       "               'args': (894, None),\n",
       "               'kwargs': {'rng_key': None},\n",
       "               'value': Array([  0,   1,   2,   3,   4,   5,   6,   7,   8,   9,  10,  11,  12,\n",
       "                       13,  14,  15,  16,  17,  18,  19,  20,  21,  22,  23,  24,  25,\n",
       "                       26,  27,  28,  29,  30,  31,  32,  33,  34,  35,  36,  37,  38,\n",
       "                       39,  40,  41,  42,  43,  44,  45,  46,  47,  48,  49,  50,  51,\n",
       "                       52,  53,  54,  55,  56,  57,  58,  59,  60,  61,  62,  63,  64,\n",
       "                       65,  66,  67,  68,  69,  70,  71,  72,  73,  74,  75,  76,  77,\n",
       "                       78,  79,  80,  81,  82,  83,  84,  85,  86,  87,  88,  89,  90,\n",
       "                       91,  92,  93,  94,  95,  96,  97,  98,  99, 100, 101, 102, 103,\n",
       "                      104, 105, 106, 107, 108, 109, 110, 111, 112, 113, 114, 115, 116,\n",
       "                      117, 118, 119, 120, 121, 122, 123, 124, 125, 126, 127, 128, 129,\n",
       "                      130, 131, 132, 133, 134, 135, 136, 137, 138, 139, 140, 141, 142,\n",
       "                      143, 144, 145, 146, 147, 148, 149, 150, 151, 152, 153, 154, 155,\n",
       "                      156, 157, 158, 159, 160, 161, 162, 163, 164, 165, 166, 167, 168,\n",
       "                      169, 170, 171, 172, 173, 174, 175, 176, 177, 178, 179, 180, 181,\n",
       "                      182, 183, 184, 185, 186, 187, 188, 189, 190, 191, 192, 193, 194,\n",
       "                      195, 196, 197, 198, 199, 200, 201, 202, 203, 204, 205, 206, 207,\n",
       "                      208, 209, 210, 211, 212, 213, 214, 215, 216, 217, 218, 219, 220,\n",
       "                      221, 222, 223, 224, 225, 226, 227, 228, 229, 230, 231, 232, 233,\n",
       "                      234, 235, 236, 237, 238, 239, 240, 241, 242, 243, 244, 245, 246,\n",
       "                      247, 248, 249, 250, 251, 252, 253, 254, 255, 256, 257, 258, 259,\n",
       "                      260, 261, 262, 263, 264, 265, 266, 267, 268, 269, 270, 271, 272,\n",
       "                      273, 274, 275, 276, 277, 278, 279, 280, 281, 282, 283, 284, 285,\n",
       "                      286, 287, 288, 289, 290, 291, 292, 293, 294, 295, 296, 297, 298,\n",
       "                      299, 300, 301, 302, 303, 304, 305, 306, 307, 308, 309, 310, 311,\n",
       "                      312, 313, 314, 315, 316, 317, 318, 319, 320, 321, 322, 323, 324,\n",
       "                      325, 326, 327, 328, 329, 330, 331, 332, 333, 334, 335, 336, 337,\n",
       "                      338, 339, 340, 341, 342, 343, 344, 345, 346, 347, 348, 349, 350,\n",
       "                      351, 352, 353, 354, 355, 356, 357, 358, 359, 360, 361, 362, 363,\n",
       "                      364, 365, 366, 367, 368, 369, 370, 371, 372, 373, 374, 375, 376,\n",
       "                      377, 378, 379, 380, 381, 382, 383, 384, 385, 386, 387, 388, 389,\n",
       "                      390, 391, 392, 393, 394, 395, 396, 397, 398, 399, 400, 401, 402,\n",
       "                      403, 404, 405, 406, 407, 408, 409, 410, 411, 412, 413, 414, 415,\n",
       "                      416, 417, 418, 419, 420, 421, 422, 423, 424, 425, 426, 427, 428,\n",
       "                      429, 430, 431, 432, 433, 434, 435, 436, 437, 438, 439, 440, 441,\n",
       "                      442, 443, 444, 445, 446, 447, 448, 449, 450, 451, 452, 453, 454,\n",
       "                      455, 456, 457, 458, 459, 460, 461, 462, 463, 464, 465, 466, 467,\n",
       "                      468, 469, 470, 471, 472, 473, 474, 475, 476, 477, 478, 479, 480,\n",
       "                      481, 482, 483, 484, 485, 486, 487, 488, 489, 490, 491, 492, 493,\n",
       "                      494, 495, 496, 497, 498, 499, 500, 501, 502, 503, 504, 505, 506,\n",
       "                      507, 508, 509, 510, 511, 512, 513, 514, 515, 516, 517, 518, 519,\n",
       "                      520, 521, 522, 523, 524, 525, 526, 527, 528, 529, 530, 531, 532,\n",
       "                      533, 534, 535, 536, 537, 538, 539, 540, 541, 542, 543, 544, 545,\n",
       "                      546, 547, 548, 549, 550, 551, 552, 553, 554, 555, 556, 557, 558,\n",
       "                      559, 560, 561, 562, 563, 564, 565, 566, 567, 568, 569, 570, 571,\n",
       "                      572, 573, 574, 575, 576, 577, 578, 579, 580, 581, 582, 583, 584,\n",
       "                      585, 586, 587, 588, 589, 590, 591, 592, 593, 594, 595, 596, 597,\n",
       "                      598, 599, 600, 601, 602, 603, 604, 605, 606, 607, 608, 609, 610,\n",
       "                      611, 612, 613, 614, 615, 616, 617, 618, 619, 620, 621, 622, 623,\n",
       "                      624, 625, 626, 627, 628, 629, 630, 631, 632, 633, 634, 635, 636,\n",
       "                      637, 638, 639, 640, 641, 642, 643, 644, 645, 646, 647, 648, 649,\n",
       "                      650, 651, 652, 653, 654, 655, 656, 657, 658, 659, 660, 661, 662,\n",
       "                      663, 664, 665, 666, 667, 668, 669, 670, 671, 672, 673, 674, 675,\n",
       "                      676, 677, 678, 679, 680, 681, 682, 683, 684, 685, 686, 687, 688,\n",
       "                      689, 690, 691, 692, 693, 694, 695, 696, 697, 698, 699, 700, 701,\n",
       "                      702, 703, 704, 705, 706, 707, 708, 709, 710, 711, 712, 713, 714,\n",
       "                      715, 716, 717, 718, 719, 720, 721, 722, 723, 724, 725, 726, 727,\n",
       "                      728, 729, 730, 731, 732, 733, 734, 735, 736, 737, 738, 739, 740,\n",
       "                      741, 742, 743, 744, 745, 746, 747, 748, 749, 750, 751, 752, 753,\n",
       "                      754, 755, 756, 757, 758, 759, 760, 761, 762, 763, 764, 765, 766,\n",
       "                      767, 768, 769, 770, 771, 772, 773, 774, 775, 776, 777, 778, 779,\n",
       "                      780, 781, 782, 783, 784, 785, 786, 787, 788, 789, 790, 791, 792,\n",
       "                      793, 794, 795, 796, 797, 798, 799, 800, 801, 802, 803, 804, 805,\n",
       "                      806, 807, 808, 809, 810, 811, 812, 813, 814, 815, 816, 817, 818,\n",
       "                      819, 820, 821, 822, 823, 824, 825, 826, 827, 828, 829, 830, 831,\n",
       "                      832, 833, 834, 835, 836, 837, 838, 839, 840, 841, 842, 843, 844,\n",
       "                      845, 846, 847, 848, 849, 850, 851, 852, 853, 854, 855, 856, 857,\n",
       "                      858, 859, 860, 861, 862, 863, 864, 865, 866, 867, 868, 869, 870,\n",
       "                      871, 872, 873, 874, 875, 876, 877, 878, 879, 880, 881, 882, 883,\n",
       "                      884, 885, 886, 887, 888, 889, 890, 891, 892, 893], dtype=int64),\n",
       "               'scale': 1.0,\n",
       "               'cond_indep_stack': []}),\n",
       "             ('T',\n",
       "              {'type': 'sample',\n",
       "               'name': 'T',\n",
       "               'fn': <numpyro.distributions.continuous.Normal at 0x28ea73580>,\n",
       "               'args': (),\n",
       "               'kwargs': {'rng_key': Array([255383827, 267815257], dtype=uint32),\n",
       "                'sample_shape': ()},\n",
       "               'value': Array([0.66208191, 0.6720564 , 0.66735381, 0.67114554, 0.70186779,\n",
       "                      0.68495195, 0.68457639, 0.69364567, 0.69736726, 0.67765667,\n",
       "                      0.68948015, 0.67940181, 0.69268513, 0.6900136 , 0.7064648 ,\n",
       "                      0.68472576, 0.7127517 , 0.70685597, 0.68059012, 0.68511551,\n",
       "                      0.7032524 , 0.71085843, 0.71130102, 0.71353335, 0.70227055,\n",
       "                      0.70482053, 0.71013578, 0.7297713 , 0.71671542, 0.69555447,\n",
       "                      0.69628958, 0.71747733, 0.71615527, 0.70914209, 0.73199352,\n",
       "                      0.7071348 , 0.7237577 , 0.73407544, 0.73199531, 0.74884572,\n",
       "                      0.7381561 , 0.71882765, 0.74444199, 0.7381228 , 0.73788796,\n",
       "                      0.73273614, 0.74452598, 0.7324812 , 0.73469924, 0.72226637,\n",
       "                      0.73279372, 0.74578679, 0.75207579, 0.73767728, 0.76419766,\n",
       "                      0.76748277, 0.74917526, 0.76806597, 0.73962533, 0.7494153 ,\n",
       "                      0.76242187, 0.7667692 , 0.75305427, 0.77233498, 0.75584988,\n",
       "                      0.74747612, 0.75918558, 0.75804685, 0.76757141, 0.7790766 ,\n",
       "                      0.77917011, 0.75437342, 0.76988339, 0.77751871, 0.77112192,\n",
       "                      0.7644643 , 0.78395949, 0.76638825, 0.77752531, 0.76928047,\n",
       "                      0.77906509, 0.77012426, 0.7692535 , 0.81176054, 0.76447174,\n",
       "                      0.77657597, 0.79569333, 0.78172945, 0.79119278, 0.80814146,\n",
       "                      0.78315009, 0.79240177, 0.78549155, 0.78930698, 0.79006395,\n",
       "                      0.80763427, 0.7856329 , 0.79707151, 0.79720812, 0.78595097,\n",
       "                      0.80547109, 0.78595183, 0.81521061, 0.80515929, 0.79184504,\n",
       "                      0.78460046, 0.82897639, 0.82100622, 0.80016554, 0.80987935,\n",
       "                      0.80798911, 0.80433365, 0.80016187, 0.80622174, 0.80763077,\n",
       "                      0.79732309, 0.8076655 , 0.80364692, 0.78910026, 0.80877965,\n",
       "                      0.8088071 , 0.80672285, 0.80913106, 0.80033332, 0.81617516,\n",
       "                      0.82602879, 0.81788926, 0.83178662, 0.82412221, 0.81067215,\n",
       "                      0.81554491, 0.8135276 , 0.82821378, 0.84126912, 0.80728075,\n",
       "                      0.82436624, 0.81764509, 0.82748955, 0.82051002, 0.81573537,\n",
       "                      0.84044153, 0.81851709, 0.81857593, 0.83241331, 0.82092303,\n",
       "                      0.82598184, 0.8318654 , 0.83564142, 0.82401556, 0.8112669 ,\n",
       "                      0.82067007, 0.82282306, 0.82247663, 0.81603922, 0.82469849,\n",
       "                      0.84140859, 0.82915751, 0.85250562, 0.84227941, 0.82980248,\n",
       "                      0.82953879, 0.83292395, 0.83535335, 0.83408206, 0.8257021 ,\n",
       "                      0.84494925, 0.82357212, 0.83528615, 0.8406138 , 0.861251  ,\n",
       "                      0.82671481, 0.83228684, 0.83626224, 0.83364967, 0.85921565,\n",
       "                      0.83434111, 0.83690709, 0.8323902 , 0.83840073, 0.81700036,\n",
       "                      0.83908312, 0.84487713, 0.86183691, 0.85089425, 0.84394786,\n",
       "                      0.84047416, 0.84229743, 0.85958896, 0.86411155, 0.86354   ,\n",
       "                      0.85351319, 0.83473337, 0.83659399, 0.85174682, 0.85492096,\n",
       "                      0.84159018, 0.85543692, 0.85797207, 0.8419798 , 0.85158724,\n",
       "                      0.84427045, 0.85670483, 0.82874295, 0.85598088, 0.84729176,\n",
       "                      0.85113279, 0.84887588, 0.85113906, 0.85903242, 0.85008904,\n",
       "                      0.85796663, 0.84918081, 0.86653902, 0.86140579, 0.84256755,\n",
       "                      0.84891407, 0.86178757, 0.84698614, 0.85047771, 0.85718822,\n",
       "                      0.85989424, 0.87609134, 0.85077656, 0.8531756 , 0.86583962,\n",
       "                      0.84580956, 0.85839377, 0.85658148, 0.8438563 , 0.85640429,\n",
       "                      0.83987591, 0.84705253, 0.83308863, 0.85116162, 0.83927557,\n",
       "                      0.8757697 , 0.84613683, 0.84330421, 0.88085874, 0.8602072 ,\n",
       "                      0.8523811 , 0.85598974, 0.86882272, 0.84277635, 0.85451919,\n",
       "                      0.8480621 , 0.85751855, 0.85954734, 0.84686599, 0.85411741,\n",
       "                      0.84547858, 0.84361599, 0.86268497, 0.85839045, 0.85553491,\n",
       "                      0.86957724, 0.85988301, 0.84796794, 0.85036624, 0.85849283,\n",
       "                      0.85188828, 0.84878303, 0.86751828, 0.84541901, 0.87405925,\n",
       "                      0.85741031, 0.86567627, 0.85170897, 0.85015736, 0.85075897,\n",
       "                      0.8564143 , 0.84332827, 0.82790804, 0.85572936, 0.84825862,\n",
       "                      0.83513791, 0.84748332, 0.85843927, 0.83986959, 0.84747573,\n",
       "                      0.84648245, 0.85724169, 0.83705462, 0.84202301, 0.84825148,\n",
       "                      0.85875521, 0.85212449, 0.8435464 , 0.85840194, 0.86634285,\n",
       "                      0.8686279 , 0.85152353, 0.87628357, 0.82864222, 0.85313703,\n",
       "                      0.84457689, 0.86086995, 0.86190268, 0.85498581, 0.86724225,\n",
       "                      0.84261979, 0.86567256, 0.86920668, 0.83124594, 0.8484173 ,\n",
       "                      0.86929108, 0.86216021, 0.85230714, 0.85739794, 0.84081088,\n",
       "                      0.8559328 , 0.86651777, 0.85425808, 0.8564649 , 0.87710588,\n",
       "                      0.87418369, 0.8645329 , 0.8525881 , 0.8803198 , 0.86663545,\n",
       "                      0.87338399, 0.86817832, 0.85851717, 0.85449367, 0.87343617,\n",
       "                      0.85817413, 0.85922261, 0.88293903, 0.86964346, 0.8661854 ,\n",
       "                      0.87740107, 0.87042137, 0.87907299, 0.87738033, 0.87713097,\n",
       "                      0.87452433, 0.87221737, 0.8715956 , 0.86501023, 0.87251364,\n",
       "                      0.87077435, 0.89333435, 0.89225528, 0.88687255, 0.87307106,\n",
       "                      0.8809557 , 0.87581856, 0.88079593, 0.87368612, 0.88779866,\n",
       "                      0.86663989, 0.88049289, 0.87347524, 0.86193034, 0.8818248 ,\n",
       "                      0.86461317, 0.8746764 , 0.86625091, 0.86639289, 0.87846776,\n",
       "                      0.89261666, 0.88281753, 0.89250187, 0.89597408, 0.90154395,\n",
       "                      0.88693534, 0.88953975, 0.89919697, 0.88231557, 0.9000372 ,\n",
       "                      0.89111715, 0.89020077, 0.88827188, 0.88224058, 0.89576998,\n",
       "                      0.89765411, 0.90660329, 0.91426548, 0.89847636, 0.89163555,\n",
       "                      0.90638328, 0.89472403, 0.90789223, 0.88281461, 0.89483993,\n",
       "                      0.91237965, 0.90920348, 0.91170544, 0.89157426, 0.90141339,\n",
       "                      0.89420532, 0.9129575 , 0.91067946, 0.8968931 , 0.89695057,\n",
       "                      0.90786364, 0.89337959, 0.9016783 , 0.90059888, 0.90597507,\n",
       "                      0.90022557, 0.90258125, 0.89351111, 0.91159174, 0.89511035,\n",
       "                      0.92603915, 0.91788915, 0.91936258, 0.90658043, 0.90093593,\n",
       "                      0.92206607, 0.91905512, 0.93168883, 0.930019  , 0.90802332,\n",
       "                      0.92231092, 0.91218676, 0.92444687, 0.92358537, 0.90811032,\n",
       "                      0.91221223, 0.92267059, 0.92513609, 0.91461517, 0.91717115,\n",
       "                      0.8995949 , 0.91821384, 0.91903813, 0.91243933, 0.92230317,\n",
       "                      0.92990392, 0.93601951, 0.92603838, 0.91455335, 0.92419178,\n",
       "                      0.91428304, 0.93107524, 0.91078503, 0.82975737, 0.78629551,\n",
       "                      0.77049236, 0.85938896, 0.8796102 , 0.87956546, 0.8932013 ,\n",
       "                      0.88791756, 0.90781951, 0.91613478, 0.9218278 , 0.91714565,\n",
       "                      0.91055862, 0.91902205, 0.92244595, 0.90819775, 0.9322193 ,\n",
       "                      0.92865751, 0.92488727, 0.92461907, 0.91979184, 0.91565609,\n",
       "                      0.93303487, 0.92301949, 0.92336866, 0.93075825, 0.93128847,\n",
       "                      0.92816168, 0.92497642, 0.93946731, 0.94313468, 0.93125393,\n",
       "                      0.93312458, 0.93490247, 0.93081857, 0.94090335, 0.93160197,\n",
       "                      0.95208492, 0.92859555, 0.94337457, 0.9159499 , 0.91690561,\n",
       "                      0.91745772, 0.93680966, 0.92408283, 0.89512263, 0.87697051,\n",
       "                      0.87948454, 0.87095298, 0.89232864, 0.90823556, 0.92290218,\n",
       "                      0.93168334, 0.91303232, 0.89348812, 0.90669601, 0.92029453,\n",
       "                      0.91908721, 0.91024567, 0.91105326, 0.90172886, 0.89730771,\n",
       "                      0.89030221, 0.90865349, 0.9179749 , 0.90686898, 0.91067784,\n",
       "                      0.92931594, 0.93201793, 0.94295007, 0.93837265, 0.91654801,\n",
       "                      0.93049243, 0.93603632, 0.95235147, 0.9283694 , 0.95385913,\n",
       "                      0.9392106 , 0.94046354, 0.93769732, 0.94389479, 0.9150773 ,\n",
       "                      0.93259776, 0.94011444, 0.94274464, 0.93968155, 0.93838228,\n",
       "                      0.95759123, 0.93645388, 0.94912279, 0.93624144, 0.93490649,\n",
       "                      0.93166351, 0.92439658, 0.94661222, 0.93580619, 0.93964616,\n",
       "                      0.93797559, 0.95319479, 0.93361457, 0.93799635, 0.93000398,\n",
       "                      0.93368848, 0.93580521, 0.94582751, 0.81140969, 0.58218568,\n",
       "                      0.42107507, 0.46941411, 0.599227  , 0.67339649, 0.64552646,\n",
       "                      0.66317608, 0.72785859, 0.81513739, 0.88153757, 0.88264454,\n",
       "                      0.90443217, 0.92595774, 0.95183909, 0.94211304, 0.94904023,\n",
       "                      0.95065956, 0.93895627, 0.96146133, 0.94310106, 0.94762354,\n",
       "                      0.95516699, 0.94093587, 0.94856859, 0.95271521, 0.92834813,\n",
       "                      0.94530681, 0.93019363, 0.91811635, 0.93961283, 0.94670974,\n",
       "                      0.93955769, 0.95039537, 0.94211134, 0.93770475, 0.94903581,\n",
       "                      0.93298464, 0.94147143, 0.94936788, 0.95431564, 0.95752707,\n",
       "                      0.94352418, 0.94645737, 0.94242001, 0.93821639, 0.93679395,\n",
       "                      0.94165582, 0.94519142, 0.96340927, 0.94688247, 0.95511271,\n",
       "                      0.9586698 , 0.92726156, 0.95888348, 0.94317151, 0.93864686,\n",
       "                      0.94186211, 0.95178281, 0.95110608, 0.95928574, 0.94151286,\n",
       "                      0.94348299, 0.95180899, 0.94047369, 0.94242686, 0.95191818,\n",
       "                      0.94393648, 0.94544503, 0.94477852, 0.93473979, 0.9609015 ,\n",
       "                      0.93692738, 0.94056593, 0.9626054 , 0.93988996, 0.94214952,\n",
       "                      0.93319871, 0.93138937, 0.92287671, 0.90917713, 0.90608892,\n",
       "                      0.93481368, 0.88996532, 0.88169923, 0.90760548, 0.90105149,\n",
       "                      0.91355136, 0.9120506 , 0.93633737, 0.93671664, 0.93004539,\n",
       "                      0.88390247, 0.88576008, 0.9154234 , 0.94442104, 0.92479634,\n",
       "                      0.94622032, 0.94875732, 0.94334348, 0.92152789, 0.93624867,\n",
       "                      0.94476975, 0.94981236, 0.93173146, 0.93339213, 0.93596303,\n",
       "                      0.96038317, 0.9369155 , 0.95007493, 0.95399254, 0.95810203,\n",
       "                      0.93525996, 0.97424651, 0.94967576, 0.92232911, 0.95926805,\n",
       "                      0.96385924, 0.94567846, 0.94900147, 0.95938947, 0.93822905,\n",
       "                      0.95245423, 0.9342678 , 0.95096951, 0.94480268, 0.96808075,\n",
       "                      0.97476574, 0.95403004, 0.94934034, 0.94244079, 0.94433402,\n",
       "                      0.96487557, 0.94504243, 0.96132594, 0.95849809, 0.95296337,\n",
       "                      0.96984114, 0.96581942, 0.94676407, 0.96089045, 0.96137681,\n",
       "                      0.96522363, 0.93840943, 0.95760746, 0.97721116, 0.96378509,\n",
       "                      0.96440002, 0.9553866 , 0.9640088 , 0.95101289, 0.97599473,\n",
       "                      0.95973499, 0.94588222, 0.96224371, 0.95862559, 0.95240656,\n",
       "                      0.96409757, 0.94861771, 0.9518231 , 0.9643024 , 0.95023787,\n",
       "                      0.94094274, 0.94834367, 0.97179514, 0.95438538, 0.95952664,\n",
       "                      0.9605179 , 0.94533414, 0.95710876, 0.96919769, 0.96750685,\n",
       "                      0.95062401, 0.95127732, 0.95688079, 0.96871249, 0.96917931,\n",
       "                      0.95465132, 0.97002723, 0.96376183, 0.95671719, 0.97440182,\n",
       "                      0.95854498, 0.96502357, 0.96779098, 0.95939416, 0.96392104,\n",
       "                      0.97335809, 0.97779707, 0.98243817, 0.97871926, 0.95251435,\n",
       "                      0.95102455, 0.95345824, 0.96036222, 0.95208659, 0.96301615,\n",
       "                      0.9498605 , 0.93585237, 0.92181068, 0.90589357, 0.95052842,\n",
       "                      0.91034469, 0.84795096, 0.83527776, 0.82784876, 0.87490383,\n",
       "                      0.87198527, 0.89739291, 0.93255722, 0.93080552, 0.94318647,\n",
       "                      0.96162576, 0.93666657, 0.91562789, 0.89421245, 0.89262581,\n",
       "                      0.89466325, 0.89653024, 0.89955089, 0.87649804, 0.90312824,\n",
       "                      0.92005764, 0.94123219, 0.91730818, 0.88021909, 0.88488878,\n",
       "                      0.87292761, 0.88114741, 0.93761986, 0.89916941, 0.88621253,\n",
       "                      0.89673409, 0.91638547, 0.94781397, 0.95638899, 0.93681446,\n",
       "                      0.94628207, 0.95440289, 0.92397713, 0.93818766, 0.95460645,\n",
       "                      0.92731123, 0.94432121, 0.93904837, 0.89348101, 0.88656322,\n",
       "                      0.89779898, 0.86488709, 0.83832763, 0.75445584, 0.67719793,\n",
       "                      0.68276497, 0.68978708, 0.67927739, 0.64577241, 0.62700573,\n",
       "                      0.58453029, 0.61167451, 0.60338365, 0.63218909, 0.66995805,\n",
       "                      0.76413409, 0.78584658, 0.77384908, 0.80321787, 0.75946505,\n",
       "                      0.70092876, 0.68388611, 0.71391724, 0.75222098, 0.78801011,\n",
       "                      0.76179563, 0.72451612, 0.73658133, 0.75205147, 0.76927531,\n",
       "                      0.77399612, 0.79817697, 0.76507048, 0.72462957, 0.74335041,\n",
       "                      0.81596544, 0.8244122 , 0.82449865, 0.79247508, 0.73239356,\n",
       "                      0.79073073, 0.85942151, 0.83592866, 0.82212267, 0.80579797,\n",
       "                      0.83260101, 0.84142298, 0.8327561 , 0.85167622, 0.87694099,\n",
       "                      0.86797696, 0.83868441, 0.83822525, 0.843653  , 0.86999438,\n",
       "                      0.90171522, 0.92411686, 0.91385928, 0.94077652, 0.9194084 ,\n",
       "                      0.92918292, 0.94913445, 0.95910946, 0.92990058, 0.93941151,\n",
       "                      0.9174777 , 0.90134707, 0.90515347, 0.89601627, 0.91579829,\n",
       "                      0.93056519, 0.92612782, 0.91965037, 0.92927509, 0.91478899,\n",
       "                      0.94860448, 0.93151336, 0.9533259 , 0.96932287, 0.9458914 ,\n",
       "                      0.96314022, 0.96313202, 0.95711786, 0.94843896, 0.97287089,\n",
       "                      0.96679506, 0.9524032 , 0.98153946, 0.96770261, 0.96160357,\n",
       "                      0.97000982, 0.9597801 , 0.95588675, 0.97996239, 0.97276507,\n",
       "                      0.96297325, 0.96589926, 0.96224797, 0.96942631, 0.954032  ,\n",
       "                      0.96936085, 0.95792896, 0.96315017, 0.96488418], dtype=float64),\n",
       "               'scale': None,\n",
       "               'is_observed': False,\n",
       "               'intermediates': [],\n",
       "               'cond_indep_stack': [CondIndepStackFrame(name='obs', dim=-1, size=894)],\n",
       "               'infer': {}})])"
      ]
     },
     "execution_count": 22,
     "metadata": {},
     "output_type": "execute_result"
    }
   ],
   "source": [
    "trace_data"
   ]
  },
  {
   "cell_type": "code",
   "execution_count": 23,
   "id": "79bd1d5a-5373-4f43-b7e8-03bd03d21f6e",
   "metadata": {},
   "outputs": [],
   "source": [
    "TMes_bis = trace_data['T'][\"value\"]"
   ]
  },
  {
   "cell_type": "code",
   "execution_count": 24,
   "id": "a1928498-b5cf-4784-97be-3a5ac5cfff28",
   "metadata": {},
   "outputs": [
    {
     "data": {
      "image/png": "[encoded data removed]",
      "text/plain": [
       "<Figure size 1000x300 with 1 Axes>"
      ]
     },
     "metadata": {},
     "output_type": "display_data"
    }
   ],
   "source": [
    "fig,ax = plt.subplots(1,1,figsize=(10,3))\n",
    "ax.errorbar(wls,TMes,yerr=sigma_obs,fmt='o',ms=1. ,linewidth=2, capsize=0, c='k', label=\"data\")\n",
    "ax.errorbar(wls,TMes_bis,yerr=sigma_obs, fmt='o', ms=1.,linewidth=2, capsize=0, c='r', label=\"data (bis)\")\n",
    "ax.set_xlabel(\"$\\lambda$ (nm)\")\n",
    "ax.set_ylabel(\"transmission\")\n",
    "ax.legend()\n",
    "ax.grid();"
   ]
  },
  {
   "cell_type": "code",
   "execution_count": null,
   "id": "3e9eafde-c091-4991-82f8-41189ce17aee",
   "metadata": {},
   "outputs": [],
   "source": [
    "# Run NUTS.\n",
    "kernel = NUTS(model, dense_mass=True, target_accept_prob=0.9,\n",
    "              init_strategy=numpyro.infer.init_to_median())\n",
    "num_samples = 5_000\n",
    "n_chains = 4\n",
    "mcmc = MCMC(kernel, num_warmup=1_000, num_samples=num_samples,  \n",
    "            num_chains=n_chains,\n",
    "            chain_method='vectorized',\n",
    "            progress_bar=False)\n",
    "mcmc.run(rng_key, wls=wls, Tobs=TMes,sigma=sigma_obs,extra_fields=('potential_energy',))\n",
    "#mcmc.run(rng_key, wls=wls, Tobs=TMes,sigma=sigma_obs)\n",
    "mcmc.print_summary()\n",
    "samples_nuts = mcmc.get_samples()"
   ]
  },
  {
   "cell_type": "code",
   "execution_count": null,
   "id": "a6805cee-689c-432c-9be2-8c21fbad8c1d",
   "metadata": {},
   "outputs": [],
   "source": [
    "az.ess(samples_nuts, relative=True)  # efficacité relative"
   ]
  },
  {
   "cell_type": "code",
   "execution_count": null,
   "id": "0a88688e-d110-4e02-a86f-e9e63205eb15",
   "metadata": {},
   "outputs": [],
   "source": [
    "plot_params_kde(samples_nuts, pcut=[1,99], var_names=['P', 'pwv','oz', 'tau','beta'])"
   ]
  },
  {
   "cell_type": "code",
   "execution_count": null,
   "id": "a5adbe2d-df3b-4841-831b-37a4534d0294",
   "metadata": {},
   "outputs": [],
   "source": []
  },
  {
   "cell_type": "code",
   "execution_count": null,
   "id": "cd6103fa-c188-4306-a1a2-ca6d4476a664",
   "metadata": {},
   "outputs": [],
   "source": [
    "wls_val = np.linspace(300.,1000,100)"
   ]
  },
  {
   "cell_type": "code",
   "execution_count": null,
   "id": "818a847b-98d5-4f61-b94f-dc879da079b7",
   "metadata": {},
   "outputs": [],
   "source": [
    "Ttrue_val = mean_transm(wls_val,par_true,airmass)"
   ]
  },
  {
   "cell_type": "code",
   "execution_count": null,
   "id": "aa196f23-f524-4b3a-82a3-f5743d78d12c",
   "metadata": {},
   "outputs": [],
   "source": [
    "func = jax.vmap(lambda x: mean_transm(wls_val,x,airmass))"
   ]
  },
  {
   "cell_type": "code",
   "execution_count": null,
   "id": "c49cfd83-5ef8-4258-8312-f9042df9edb1",
   "metadata": {},
   "outputs": [],
   "source": [
    "Tall_val= func(samples_nuts) "
   ]
  },
  {
   "cell_type": "code",
   "execution_count": null,
   "id": "fa6dd672-cf4c-47d1-a8dd-59c0240413f1",
   "metadata": {},
   "outputs": [],
   "source": [
    "Tmean_val = jnp.mean(Tall_val,axis=0)"
   ]
  },
  {
   "cell_type": "code",
   "execution_count": null,
   "id": "45094816-a1c3-4b38-8d60-f7805938c18e",
   "metadata": {},
   "outputs": [],
   "source": [
    "std_T_val = jnp.std(Tall_val,axis=0)"
   ]
  },
  {
   "cell_type": "code",
   "execution_count": null,
   "id": "759f02f7-871a-44ba-a99c-959427a44454",
   "metadata": {},
   "outputs": [],
   "source": [
    "fig,ax =plt.subplots(1,1,figsize=(10,4))\n",
    "ax.errorbar(wls,TMes,yerr=sigma_obs,fmt='o', ms=1,linewidth=1, capsize=0, c='k', label=\"data\")\n",
    "ax.plot(wls_val,Ttrue_val,c='k',label=\"true\")\n",
    "\n",
    "ax.fill_between(wls_val, Tmean_val-2*std_T_val, Tmean_val+2*std_T_val, \n",
    "                    color=\"lightblue\",label=r\"$2-\\sigma$\")\n",
    "ax.fill_between(wls_val, Tmean_val-std_T_val, Tmean_val+std_T_val, \n",
    "                    color=\"lightgray\",label=r\"$1-\\sigma$\")\n",
    "# plot mean prediction\n",
    "ax.plot(wls_val, Tmean_val, \"blue\", ls=\"--\", lw=2.0, label=\"mean\")\n",
    "\n",
    "\n",
    "ax.set_xlabel(\"$\\lambda$ (nm)\")\n",
    "ax.set_ylabel(\"transmission\")\n",
    "ax.legend()\n",
    "ax.grid();"
   ]
  }
 ],
 "metadata": {
  "kernelspec": {
   "display_name": "conda_py310",
   "language": "python",
   "name": "conda_py310"
  },
  "language_info": {
   "codemirror_mode": {
    "name": "ipython",
    "version": 3
   },
   "file_extension": ".py",
   "mimetype": "text/x-python",
   "name": "python",
   "nbconvert_exporter": "python",
   "pygments_lexer": "ipython3",
   "version": "3.10.12"
  }
 },
 "nbformat": 4,
 "nbformat_minor": 5
}
