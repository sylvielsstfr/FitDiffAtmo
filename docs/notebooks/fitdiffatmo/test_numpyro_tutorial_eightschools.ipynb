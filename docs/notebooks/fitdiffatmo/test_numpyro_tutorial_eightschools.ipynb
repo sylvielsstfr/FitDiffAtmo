{
 "cells": [
  {
   "cell_type": "markdown",
   "id": "b251cd5f-10d1-437f-ba6d-c681c7f0a55d",
   "metadata": {},
   "source": [
    "# Numpyro"
   ]
  },
  {
   "cell_type": "code",
   "execution_count": 1,
   "id": "18a431cc-f65c-4434-8cbf-60fb87a4713e",
   "metadata": {},
   "outputs": [],
   "source": [
    "import numpyro\n",
    "import numpyro.distributions as dist"
   ]
  },
  {
   "cell_type": "code",
   "execution_count": 2,
   "id": "d73d9ddc-7732-48f0-8e34-67cc474e2f7e",
   "metadata": {},
   "outputs": [],
   "source": [
    "import numpy as np\n",
    "J = 8\n",
    "y = np.array([28.0, 8.0, -3.0, 7.0, -1.0, 1.0, 18.0, 12.0])\n",
    "sigma = np.array([15.0, 10.0, 16.0, 11.0, 9.0, 11.0, 10.0, 18.0])"
   ]
  },
  {
   "cell_type": "code",
   "execution_count": 3,
   "id": "02724a07-ad8a-4a6f-8e58-93159f1a662f",
   "metadata": {},
   "outputs": [],
   "source": [
    "def eight_schools(J, sigma, y=None):\n",
    "    mu = numpyro.sample('mu', dist.Normal(0, 5))\n",
    "    tau = numpyro.sample('tau', dist.HalfCauchy(5))\n",
    "    with numpyro.plate('J', J):\n",
    "        theta = numpyro.sample('theta', dist.Normal(mu, tau))\n",
    "        numpyro.sample('obs', dist.Normal(theta, sigma), obs=y)"
   ]
  },
  {
   "cell_type": "code",
   "execution_count": 4,
   "id": "7eba0ed7-0a39-4856-8d1a-10ae31b1cbb2",
   "metadata": {},
   "outputs": [],
   "source": [
    "from jax import random\n",
    "from numpyro.infer import MCMC, NUTS"
   ]
  },
  {
   "cell_type": "code",
   "execution_count": 5,
   "id": "cf298f96-9f92-4672-8bb1-c673610c1c44",
   "metadata": {},
   "outputs": [
    {
     "name": "stderr",
     "output_type": "stream",
     "text": [
      "sample: 100%|█████████████████████████████████████████████████████████████████████████████████████████████████████████████████████████████████████| 1500/1500 [00:00<00:00, 1585.22it/s, 31 steps of size 6.07e-02. acc. prob=0.75]\n"
     ]
    }
   ],
   "source": [
    "nuts_kernel = NUTS(eight_schools)\n",
    "mcmc = MCMC(nuts_kernel, num_warmup=500, num_samples=1000)\n",
    "rng_key = random.PRNGKey(0)\n",
    "mcmc.run(rng_key, J, sigma, y=y, extra_fields=('potential_energy',))"
   ]
  },
  {
   "cell_type": "code",
   "execution_count": 6,
   "id": "f66747c2-4347-44b7-8bb5-a027b849d65e",
   "metadata": {},
   "outputs": [
    {
     "name": "stdout",
     "output_type": "stream",
     "text": [
      "\n",
      "                mean       std    median      5.0%     95.0%     n_eff     r_hat\n",
      "        mu      4.48      2.88      5.14     -0.66      8.88    116.32      1.05\n",
      "       tau      2.59      2.60      1.83      0.22      6.07     12.80      1.17\n",
      "  theta[0]      5.65      4.24      5.74     -1.52     12.17    182.43      1.00\n",
      "  theta[1]      4.82      3.96      5.37     -1.61     11.47    246.74      1.02\n",
      "  theta[2]      4.26      4.16      5.30     -2.94      9.97    199.61      1.05\n",
      "  theta[3]      4.68      4.02      5.36     -1.36     11.70    212.51      1.02\n",
      "  theta[4]      3.89      3.95      4.85     -3.23      9.25    115.18      1.06\n",
      "  theta[5]      4.28      4.14      5.30     -2.46     10.35    179.70      1.03\n",
      "  theta[6]      5.87      4.12      5.70     -0.27     12.99    157.47      1.00\n",
      "  theta[7]      4.77      4.14      5.31     -3.17     10.03    195.87      1.01\n",
      "\n",
      "Number of divergences: 105\n"
     ]
    }
   ],
   "source": [
    "mcmc.print_summary() "
   ]
  },
  {
   "cell_type": "code",
   "execution_count": 7,
   "id": "76fb80e2-249e-42ec-ad16-bfbd53279db0",
   "metadata": {},
   "outputs": [],
   "source": [
    "pe = mcmc.get_extra_fields()['potential_energy']"
   ]
  },
  {
   "cell_type": "code",
   "execution_count": 8,
   "id": "4a4de388-863e-4257-97b7-99f991c430d3",
   "metadata": {},
   "outputs": [
    {
     "name": "stdout",
     "output_type": "stream",
     "text": [
      "Expected log joint density: -49.01\n"
     ]
    }
   ],
   "source": [
    "print('Expected log joint density: {:.2f}'.format(np.mean(-pe))) "
   ]
  },
  {
   "cell_type": "code",
   "execution_count": null,
   "id": "3b7b4434-ec44-4f75-8d8b-aa9c356b0502",
   "metadata": {},
   "outputs": [],
   "source": []
  }
 ],
 "metadata": {
  "kernelspec": {
   "display_name": "conda_py310",
   "language": "python",
   "name": "conda_py310"
  },
  "language_info": {
   "codemirror_mode": {
    "name": "ipython",
    "version": 3
   },
   "file_extension": ".py",
   "mimetype": "text/x-python",
   "name": "python",
   "nbconvert_exporter": "python",
   "pygments_lexer": "ipython3",
   "version": "3.10.12"
  }
 },
 "nbformat": 4,
 "nbformat_minor": 5
}
