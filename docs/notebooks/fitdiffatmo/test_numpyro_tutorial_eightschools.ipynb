{
 "cells": [
  {
   "cell_type": "markdown",
   "id": "b251cd5f-10d1-437f-ba6d-c681c7f0a55d",
   "metadata": {},
   "source": [
    "# Numpyro"
   ]
  },
  {
   "cell_type": "code",
   "execution_count": null,
   "id": "18a431cc-f65c-4434-8cbf-60fb87a4713e",
   "metadata": {},
   "outputs": [],
   "source": [
    "import numpyro\n",
    "import numpyro.distributions as dist"
   ]
  },
  {
   "cell_type": "code",
   "execution_count": null,
   "id": "d73d9ddc-7732-48f0-8e34-67cc474e2f7e",
   "metadata": {},
   "outputs": [],
   "source": [
    "import numpy as np\n",
    "J = 8\n",
    "y = np.array([28.0, 8.0, -3.0, 7.0, -1.0, 1.0, 18.0, 12.0])\n",
    "sigma = np.array([15.0, 10.0, 16.0, 11.0, 9.0, 11.0, 10.0, 18.0])"
   ]
  },
  {
   "cell_type": "code",
   "execution_count": null,
   "id": "02724a07-ad8a-4a6f-8e58-93159f1a662f",
   "metadata": {},
   "outputs": [],
   "source": [
    "def eight_schools(J, sigma, y=None):\n",
    "    mu = numpyro.sample('mu', dist.Normal(0, 5))\n",
    "    tau = numpyro.sample('tau', dist.HalfCauchy(5))\n",
    "    with numpyro.plate('J', J):\n",
    "        theta = numpyro.sample('theta', dist.Normal(mu, tau))\n",
    "        numpyro.sample('obs', dist.Normal(theta, sigma), obs=y)"
   ]
  },
  {
   "cell_type": "code",
   "execution_count": null,
   "id": "7eba0ed7-0a39-4856-8d1a-10ae31b1cbb2",
   "metadata": {},
   "outputs": [],
   "source": [
    "from jax import random\n",
    "from numpyro.infer import MCMC, NUTS"
   ]
  },
  {
   "cell_type": "code",
   "execution_count": null,
   "id": "cf298f96-9f92-4672-8bb1-c673610c1c44",
   "metadata": {},
   "outputs": [],
   "source": [
    "nuts_kernel = NUTS(eight_schools)\n",
    "mcmc = MCMC(nuts_kernel, num_warmup=500, num_samples=1000)\n",
    "rng_key = random.PRNGKey(0)\n",
    "mcmc.run(rng_key, J, sigma, y=y, extra_fields=('potential_energy',))"
   ]
  },
  {
   "cell_type": "code",
   "execution_count": null,
   "id": "f66747c2-4347-44b7-8bb5-a027b849d65e",
   "metadata": {},
   "outputs": [],
   "source": [
    "mcmc.print_summary() "
   ]
  },
  {
   "cell_type": "code",
   "execution_count": null,
   "id": "76fb80e2-249e-42ec-ad16-bfbd53279db0",
   "metadata": {},
   "outputs": [],
   "source": [
    "pe = mcmc.get_extra_fields()['potential_energy']"
   ]
  },
  {
   "cell_type": "code",
   "execution_count": null,
   "id": "4a4de388-863e-4257-97b7-99f991c430d3",
   "metadata": {},
   "outputs": [],
   "source": [
    "print('Expected log joint density: {:.2f}'.format(np.mean(-pe))) "
   ]
  },
  {
   "cell_type": "code",
   "execution_count": null,
   "id": "3b7b4434-ec44-4f75-8d8b-aa9c356b0502",
   "metadata": {},
   "outputs": [],
   "source": []
  }
 ],
 "metadata": {
  "kernelspec": {
   "display_name": "conda_py310",
   "language": "python",
   "name": "conda_py310"
  },
  "language_info": {
   "codemirror_mode": {
    "name": "ipython",
    "version": 3
   },
   "file_extension": ".py",
   "mimetype": "text/x-python",
   "name": "python",
   "nbconvert_exporter": "python",
   "pygments_lexer": "ipython3",
   "version": "3.10.12"
  }
 },
 "nbformat": 4,
 "nbformat_minor": 5
}
